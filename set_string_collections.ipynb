{
 "cells": [
  {
   "cell_type": "markdown",
   "id": "39d89f57",
   "metadata": {},
   "source": [
    "# SET\n"
   ]
  },
  {
   "cell_type": "code",
   "execution_count": 1,
   "id": "48fcfd19",
   "metadata": {},
   "outputs": [],
   "source": [
    "#unordered, mutable and no duplicates"
   ]
  },
  {
   "cell_type": "code",
   "execution_count": 4,
   "id": "17df6c20",
   "metadata": {},
   "outputs": [],
   "source": [
    "myset = {1, 2 ,3 ,1 ,2, 2,2 }"
   ]
  },
  {
   "cell_type": "code",
   "execution_count": 5,
   "id": "6f38b0f3",
   "metadata": {},
   "outputs": [
    {
     "data": {
      "text/plain": [
       "{1, 2, 3}"
      ]
     },
     "execution_count": 5,
     "metadata": {},
     "output_type": "execute_result"
    }
   ],
   "source": [
    "myset"
   ]
  },
  {
   "cell_type": "code",
   "execution_count": 6,
   "id": "956a6a00",
   "metadata": {},
   "outputs": [],
   "source": [
    "myset1 = set([1,1,1, 2,2,2,3,3,3,3])"
   ]
  },
  {
   "cell_type": "code",
   "execution_count": 7,
   "id": "46e20b1a",
   "metadata": {},
   "outputs": [
    {
     "data": {
      "text/plain": [
       "{1, 2, 3}"
      ]
     },
     "execution_count": 7,
     "metadata": {},
     "output_type": "execute_result"
    }
   ],
   "source": [
    "myset1"
   ]
  },
  {
   "cell_type": "code",
   "execution_count": 8,
   "id": "9511cff5",
   "metadata": {},
   "outputs": [],
   "source": [
    "#The above are two different ways to make a set"
   ]
  },
  {
   "cell_type": "code",
   "execution_count": 11,
   "id": "033bd623",
   "metadata": {},
   "outputs": [],
   "source": [
    "myset = set(\"Hello\")"
   ]
  },
  {
   "cell_type": "code",
   "execution_count": 12,
   "id": "655375ea",
   "metadata": {},
   "outputs": [
    {
     "data": {
      "text/plain": [
       "{'H', 'e', 'l', 'o'}"
      ]
     },
     "execution_count": 12,
     "metadata": {},
     "output_type": "execute_result"
    }
   ],
   "source": [
    "myset"
   ]
  },
  {
   "cell_type": "code",
   "execution_count": 13,
   "id": "6d3e063c",
   "metadata": {},
   "outputs": [
    {
     "data": {
      "text/plain": [
       "4"
      ]
     },
     "execution_count": 13,
     "metadata": {},
     "output_type": "execute_result"
    }
   ],
   "source": [
    "len(myset)"
   ]
  },
  {
   "cell_type": "code",
   "execution_count": 14,
   "id": "514368bc",
   "metadata": {},
   "outputs": [],
   "source": [
    "myset.add(1)"
   ]
  },
  {
   "cell_type": "code",
   "execution_count": 15,
   "id": "ee8b12c1",
   "metadata": {},
   "outputs": [
    {
     "data": {
      "text/plain": [
       "{1, 'H', 'e', 'l', 'o'}"
      ]
     },
     "execution_count": 15,
     "metadata": {},
     "output_type": "execute_result"
    }
   ],
   "source": [
    "myset"
   ]
  },
  {
   "cell_type": "code",
   "execution_count": 16,
   "id": "f2fa20b0",
   "metadata": {},
   "outputs": [],
   "source": [
    "myset.remove(\"H\")"
   ]
  },
  {
   "cell_type": "code",
   "execution_count": 17,
   "id": "0c067b65",
   "metadata": {},
   "outputs": [
    {
     "data": {
      "text/plain": [
       "{1, 'e', 'l', 'o'}"
      ]
     },
     "execution_count": 17,
     "metadata": {},
     "output_type": "execute_result"
    }
   ],
   "source": [
    "myset"
   ]
  },
  {
   "cell_type": "code",
   "execution_count": 18,
   "id": "4ffed7f9",
   "metadata": {},
   "outputs": [
    {
     "ename": "KeyError",
     "evalue": "'a'",
     "output_type": "error",
     "traceback": [
      "\u001b[0;31m---------------------------------------------------------------------------\u001b[0m",
      "\u001b[0;31mKeyError\u001b[0m                                  Traceback (most recent call last)",
      "Cell \u001b[0;32mIn[18], line 1\u001b[0m\n\u001b[0;32m----> 1\u001b[0m \u001b[43mmyset\u001b[49m\u001b[38;5;241;43m.\u001b[39;49m\u001b[43mremove\u001b[49m\u001b[43m(\u001b[49m\u001b[38;5;124;43m\"\u001b[39;49m\u001b[38;5;124;43ma\u001b[39;49m\u001b[38;5;124;43m\"\u001b[39;49m\u001b[43m)\u001b[49m\n",
      "\u001b[0;31mKeyError\u001b[0m: 'a'"
     ]
    }
   ],
   "source": [
    "myset.remove(\"a\")"
   ]
  },
  {
   "cell_type": "code",
   "execution_count": 19,
   "id": "b1d31d4e",
   "metadata": {},
   "outputs": [],
   "source": [
    "myset.discard(\"a\")"
   ]
  },
  {
   "cell_type": "code",
   "execution_count": 20,
   "id": "9adec768",
   "metadata": {},
   "outputs": [
    {
     "data": {
      "text/plain": [
       "True"
      ]
     },
     "execution_count": 20,
     "metadata": {},
     "output_type": "execute_result"
    }
   ],
   "source": [
    "\"e\" in  myset"
   ]
  },
  {
   "cell_type": "code",
   "execution_count": 21,
   "id": "ffa76359",
   "metadata": {},
   "outputs": [],
   "source": [
    "empty = {}"
   ]
  },
  {
   "cell_type": "code",
   "execution_count": 22,
   "id": "fc1c955d",
   "metadata": {},
   "outputs": [
    {
     "data": {
      "text/plain": [
       "dict"
      ]
     },
     "execution_count": 22,
     "metadata": {},
     "output_type": "execute_result"
    }
   ],
   "source": [
    "type(empty)"
   ]
  },
  {
   "cell_type": "code",
   "execution_count": 23,
   "id": "10482e3b",
   "metadata": {},
   "outputs": [],
   "source": [
    "odds = {1, 3, 5, 7 ,9}\n",
    "evens = {0, 2, 4, 6 ,8}\n",
    "prime = {2, 3, 5, 7}"
   ]
  },
  {
   "cell_type": "code",
   "execution_count": 24,
   "id": "7b71cfa2",
   "metadata": {},
   "outputs": [],
   "source": [
    "#union\n",
    "u = odds.union(evens)"
   ]
  },
  {
   "cell_type": "code",
   "execution_count": 25,
   "id": "700dab0f",
   "metadata": {},
   "outputs": [
    {
     "data": {
      "text/plain": [
       "{0, 1, 2, 3, 4, 5, 6, 7, 8, 9}"
      ]
     },
     "execution_count": 25,
     "metadata": {},
     "output_type": "execute_result"
    }
   ],
   "source": [
    "u"
   ]
  },
  {
   "cell_type": "code",
   "execution_count": 26,
   "id": "c610755d",
   "metadata": {},
   "outputs": [],
   "source": [
    "i = odds.intersection(evens)"
   ]
  },
  {
   "cell_type": "code",
   "execution_count": 27,
   "id": "69154207",
   "metadata": {},
   "outputs": [
    {
     "data": {
      "text/plain": [
       "set()"
      ]
     },
     "execution_count": 27,
     "metadata": {},
     "output_type": "execute_result"
    }
   ],
   "source": [
    "i"
   ]
  },
  {
   "cell_type": "code",
   "execution_count": 28,
   "id": "067c459b",
   "metadata": {},
   "outputs": [],
   "source": [
    "i = odds.intersection(prime)"
   ]
  },
  {
   "cell_type": "code",
   "execution_count": 29,
   "id": "99845750",
   "metadata": {},
   "outputs": [
    {
     "data": {
      "text/plain": [
       "{3, 5, 7}"
      ]
     },
     "execution_count": 29,
     "metadata": {},
     "output_type": "execute_result"
    }
   ],
   "source": [
    "i"
   ]
  },
  {
   "cell_type": "code",
   "execution_count": 30,
   "id": "703a1824",
   "metadata": {},
   "outputs": [],
   "source": [
    "i = evens.intersection(prime)"
   ]
  },
  {
   "cell_type": "code",
   "execution_count": 31,
   "id": "2dbbfaf5",
   "metadata": {},
   "outputs": [
    {
     "data": {
      "text/plain": [
       "{2}"
      ]
     },
     "execution_count": 31,
     "metadata": {},
     "output_type": "execute_result"
    }
   ],
   "source": [
    "i"
   ]
  },
  {
   "cell_type": "code",
   "execution_count": 32,
   "id": "47bd95ed",
   "metadata": {},
   "outputs": [],
   "source": []
  },
  {
   "cell_type": "code",
   "execution_count": 49,
   "id": "a44833bb",
   "metadata": {},
   "outputs": [
    {
     "data": {
      "text/plain": [
       "{1, 2, 3, 4, 5, 6, 7, 8, 9}"
      ]
     },
     "execution_count": 49,
     "metadata": {},
     "output_type": "execute_result"
    }
   ],
   "source": [
    "seta = set(range(1,10, 1))\n",
    "seta"
   ]
  },
  {
   "cell_type": "code",
   "execution_count": 50,
   "id": "cfa1ce48",
   "metadata": {},
   "outputs": [],
   "source": [
    "setb = {1 ,2 ,3}"
   ]
  },
  {
   "cell_type": "code",
   "execution_count": 51,
   "id": "eebd8401",
   "metadata": {},
   "outputs": [
    {
     "data": {
      "text/plain": [
       "{4, 5, 6, 7, 8, 9}"
      ]
     },
     "execution_count": 51,
     "metadata": {},
     "output_type": "execute_result"
    }
   ],
   "source": [
    "diff = seta.difference(setb)\n",
    "diff"
   ]
  },
  {
   "cell_type": "code",
   "execution_count": 53,
   "id": "5a189609",
   "metadata": {},
   "outputs": [
    {
     "data": {
      "text/plain": [
       "True"
      ]
     },
     "execution_count": 53,
     "metadata": {},
     "output_type": "execute_result"
    }
   ],
   "source": [
    "setb.issubset(seta)"
   ]
  },
  {
   "cell_type": "code",
   "execution_count": 54,
   "id": "a916f5a9",
   "metadata": {},
   "outputs": [],
   "source": [
    "a  = frozenset([1 , 2, 2, 4, 3, 3])"
   ]
  },
  {
   "cell_type": "code",
   "execution_count": 57,
   "id": "dd97dc61",
   "metadata": {},
   "outputs": [
    {
     "data": {
      "text/plain": [
       "frozenset({1, 2, 3, 4})"
      ]
     },
     "execution_count": 57,
     "metadata": {},
     "output_type": "execute_result"
    }
   ],
   "source": [
    "a\n",
    "#immutable"
   ]
  },
  {
   "cell_type": "code",
   "execution_count": 56,
   "id": "ad85a9d6",
   "metadata": {},
   "outputs": [
    {
     "ename": "AttributeError",
     "evalue": "'frozenset' object has no attribute 'add'",
     "output_type": "error",
     "traceback": [
      "\u001b[0;31m---------------------------------------------------------------------------\u001b[0m",
      "\u001b[0;31mAttributeError\u001b[0m                            Traceback (most recent call last)",
      "Cell \u001b[0;32mIn[56], line 1\u001b[0m\n\u001b[0;32m----> 1\u001b[0m \u001b[43ma\u001b[49m\u001b[38;5;241;43m.\u001b[39;49m\u001b[43madd\u001b[49m(\u001b[38;5;241m1\u001b[39m)\n",
      "\u001b[0;31mAttributeError\u001b[0m: 'frozenset' object has no attribute 'add'"
     ]
    }
   ],
   "source": []
  },
  {
   "cell_type": "markdown",
   "id": "bf8d101d",
   "metadata": {},
   "source": [
    "# Strings"
   ]
  },
  {
   "cell_type": "code",
   "execution_count": 58,
   "id": "78f17552",
   "metadata": {},
   "outputs": [],
   "source": [
    "#ordered, immutable, "
   ]
  },
  {
   "cell_type": "code",
   "execution_count": 67,
   "id": "e49e5f89",
   "metadata": {},
   "outputs": [],
   "source": [
    "mystring = \"I'mabcdef\""
   ]
  },
  {
   "cell_type": "code",
   "execution_count": 68,
   "id": "d78d8eb8",
   "metadata": {},
   "outputs": [
    {
     "data": {
      "text/plain": [
       "\"I'mabcdef\""
      ]
     },
     "execution_count": 68,
     "metadata": {},
     "output_type": "execute_result"
    }
   ],
   "source": [
    "mystring"
   ]
  },
  {
   "cell_type": "code",
   "execution_count": 69,
   "id": "2051fbf9",
   "metadata": {},
   "outputs": [
    {
     "data": {
      "text/plain": [
       "'\\nI am\\npreparing\\n'"
      ]
     },
     "execution_count": 69,
     "metadata": {},
     "output_type": "execute_result"
    }
   ],
   "source": [
    "\"\"\"\n",
    "I am\n",
    "preparing\n",
    "\"\"\""
   ]
  },
  {
   "cell_type": "code",
   "execution_count": 85,
   "id": "cf638c48",
   "metadata": {},
   "outputs": [],
   "source": [
    "mystring = \"mam\""
   ]
  },
  {
   "cell_type": "code",
   "execution_count": 72,
   "id": "32d11003",
   "metadata": {},
   "outputs": [
    {
     "ename": "TypeError",
     "evalue": "'str' object does not support item assignment",
     "output_type": "error",
     "traceback": [
      "\u001b[0;31m---------------------------------------------------------------------------\u001b[0m",
      "\u001b[0;31mTypeError\u001b[0m                                 Traceback (most recent call last)",
      "Cell \u001b[0;32mIn[72], line 1\u001b[0m\n\u001b[0;32m----> 1\u001b[0m \u001b[43mmystring\u001b[49m\u001b[43m[\u001b[49m\u001b[38;5;241;43m0\u001b[39;49m\u001b[43m]\u001b[49m \u001b[38;5;241m=\u001b[39m \u001b[38;5;124m\"\u001b[39m\u001b[38;5;124mp\u001b[39m\u001b[38;5;124m\"\u001b[39m\n",
      "\u001b[0;31mTypeError\u001b[0m: 'str' object does not support item assignment"
     ]
    }
   ],
   "source": [
    "mystring[0] = \"p\""
   ]
  },
  {
   "cell_type": "code",
   "execution_count": 76,
   "id": "bf9adf62",
   "metadata": {},
   "outputs": [
    {
     "data": {
      "text/plain": [
       "'Hell'"
      ]
     },
     "execution_count": 76,
     "metadata": {},
     "output_type": "execute_result"
    }
   ],
   "source": [
    "mystring[0:4]\n"
   ]
  },
  {
   "cell_type": "code",
   "execution_count": 84,
   "id": "544c0bba",
   "metadata": {},
   "outputs": [
    {
     "data": {
      "text/plain": [
       "True"
      ]
     },
     "execution_count": 84,
     "metadata": {},
     "output_type": "execute_result"
    }
   ],
   "source": [
    "mystring == mystring[::-1] #start:end:stepsize"
   ]
  },
  {
   "cell_type": "code",
   "execution_count": 82,
   "id": "ee029bb3",
   "metadata": {},
   "outputs": [
    {
     "data": {
      "text/plain": [
       "'Hlo'"
      ]
     },
     "execution_count": 82,
     "metadata": {},
     "output_type": "execute_result"
    }
   ],
   "source": [
    "mystring[0:5:2]"
   ]
  },
  {
   "cell_type": "code",
   "execution_count": 94,
   "id": "c835129d",
   "metadata": {},
   "outputs": [
    {
     "data": {
      "text/plain": [
       "'I am        preparing            python      '"
      ]
     },
     "execution_count": 94,
     "metadata": {},
     "output_type": "execute_result"
    }
   ],
   "source": [
    "a = \"I am        preparing\"\n",
    "b = \"           python      \"\n",
    "c = a +\" \" +  b \n",
    "c"
   ]
  },
  {
   "cell_type": "code",
   "execution_count": 93,
   "id": "f007be9d",
   "metadata": {},
   "outputs": [
    {
     "data": {
      "text/plain": [
       "True"
      ]
     },
     "execution_count": 93,
     "metadata": {},
     "output_type": "execute_result"
    }
   ],
   "source": [
    "\"y\" in b"
   ]
  },
  {
   "cell_type": "code",
   "execution_count": 104,
   "id": "2ed12288",
   "metadata": {},
   "outputs": [
    {
     "data": {
      "text/plain": [
       "' HEllo    '"
      ]
     },
     "execution_count": 104,
     "metadata": {},
     "output_type": "execute_result"
    }
   ],
   "source": [
    "c"
   ]
  },
  {
   "cell_type": "code",
   "execution_count": 105,
   "id": "531227f7",
   "metadata": {},
   "outputs": [
    {
     "data": {
      "text/plain": [
       "' HELLO    '"
      ]
     },
     "execution_count": 105,
     "metadata": {},
     "output_type": "execute_result"
    }
   ],
   "source": [
    "c.upper()"
   ]
  },
  {
   "cell_type": "code",
   "execution_count": 106,
   "id": "b4922d04",
   "metadata": {},
   "outputs": [
    {
     "data": {
      "text/plain": [
       "' hello    '"
      ]
     },
     "execution_count": 106,
     "metadata": {},
     "output_type": "execute_result"
    }
   ],
   "source": [
    "c.lower()"
   ]
  },
  {
   "cell_type": "code",
   "execution_count": 107,
   "id": "f6636ce1",
   "metadata": {},
   "outputs": [],
   "source": [
    "c = \"hello\""
   ]
  },
  {
   "cell_type": "code",
   "execution_count": 109,
   "id": "aa45824e",
   "metadata": {},
   "outputs": [
    {
     "data": {
      "text/plain": [
       "True"
      ]
     },
     "execution_count": 109,
     "metadata": {},
     "output_type": "execute_result"
    }
   ],
   "source": [
    "c.startswith(\"hel\")"
   ]
  },
  {
   "cell_type": "code",
   "execution_count": 110,
   "id": "85f73314",
   "metadata": {},
   "outputs": [
    {
     "data": {
      "text/plain": [
       "True"
      ]
     },
     "execution_count": 110,
     "metadata": {},
     "output_type": "execute_result"
    }
   ],
   "source": [
    "c.endswith(\"lo\")"
   ]
  },
  {
   "cell_type": "code",
   "execution_count": 111,
   "id": "88646d89",
   "metadata": {},
   "outputs": [
    {
     "data": {
      "text/plain": [
       "2"
      ]
     },
     "execution_count": 111,
     "metadata": {},
     "output_type": "execute_result"
    }
   ],
   "source": [
    "c.count(\"l\")"
   ]
  },
  {
   "cell_type": "code",
   "execution_count": 112,
   "id": "1b78412e",
   "metadata": {},
   "outputs": [
    {
     "name": "stdout",
     "output_type": "stream",
     "text": [
      "HELLO\n"
     ]
    }
   ],
   "source": [
    "print(c.upper())"
   ]
  },
  {
   "cell_type": "code",
   "execution_count": 113,
   "id": "07bbd184",
   "metadata": {},
   "outputs": [],
   "source": [
    "a = \"I am        preparing\"\n",
    "b = \"           python      \"\n",
    "d = a +\" \" +  b "
   ]
  },
  {
   "cell_type": "code",
   "execution_count": 114,
   "id": "58b66772",
   "metadata": {},
   "outputs": [
    {
     "data": {
      "text/plain": [
       "'I am        preparing            python      '"
      ]
     },
     "execution_count": 114,
     "metadata": {},
     "output_type": "execute_result"
    }
   ],
   "source": [
    "d"
   ]
  },
  {
   "cell_type": "code",
   "execution_count": 115,
   "id": "53ac43d5",
   "metadata": {},
   "outputs": [
    {
     "name": "stdout",
     "output_type": "stream",
     "text": [
      "I AM        PREPARING            PYTHON      \n"
     ]
    }
   ],
   "source": [
    "print(d.upper())"
   ]
  },
  {
   "cell_type": "code",
   "execution_count": 117,
   "id": "4e630bb7",
   "metadata": {},
   "outputs": [
    {
     "data": {
      "text/plain": [
       "'I was        preparing            python      '"
      ]
     },
     "execution_count": 117,
     "metadata": {},
     "output_type": "execute_result"
    }
   ],
   "source": [
    "d.replace(\"am\", \"was\")"
   ]
  },
  {
   "cell_type": "code",
   "execution_count": 118,
   "id": "70a04543",
   "metadata": {},
   "outputs": [
    {
     "data": {
      "text/plain": [
       "'Iampreparingpython'"
      ]
     },
     "execution_count": 118,
     "metadata": {},
     "output_type": "execute_result"
    }
   ],
   "source": [
    "d.replace(\" \", \"\")"
   ]
  },
  {
   "cell_type": "code",
   "execution_count": 132,
   "id": "d77cedda",
   "metadata": {},
   "outputs": [],
   "source": [
    "s = \"how,are,you\""
   ]
  },
  {
   "cell_type": "code",
   "execution_count": 134,
   "id": "ed157613",
   "metadata": {},
   "outputs": [
    {
     "data": {
      "text/plain": [
       "['how', 'are', 'you']"
      ]
     },
     "execution_count": 134,
     "metadata": {},
     "output_type": "execute_result"
    }
   ],
   "source": [
    "s.split(\",\")"
   ]
  },
  {
   "cell_type": "code",
   "execution_count": 135,
   "id": "30f993ad",
   "metadata": {},
   "outputs": [],
   "source": [
    "s = \"sub mul div\""
   ]
  },
  {
   "cell_type": "code",
   "execution_count": 136,
   "id": "ec2169cc",
   "metadata": {},
   "outputs": [],
   "source": [
    "lst_s = s.split(\" \")"
   ]
  },
  {
   "cell_type": "code",
   "execution_count": 137,
   "id": "4f779974",
   "metadata": {},
   "outputs": [
    {
     "data": {
      "text/plain": [
       "['sub', 'mul', 'div']"
      ]
     },
     "execution_count": 137,
     "metadata": {},
     "output_type": "execute_result"
    }
   ],
   "source": [
    "lst_s"
   ]
  },
  {
   "cell_type": "code",
   "execution_count": 128,
   "id": "0e795334",
   "metadata": {},
   "outputs": [],
   "source": [
    "for oper in lst_s:\n",
    "    if oper == \"add\":\n",
    "        print(\"lets add\")\n",
    "        "
   ]
  },
  {
   "cell_type": "code",
   "execution_count": 129,
   "id": "e0812156",
   "metadata": {},
   "outputs": [
    {
     "data": {
      "text/plain": [
       "['sub', 'mul', 'div']"
      ]
     },
     "execution_count": 129,
     "metadata": {},
     "output_type": "execute_result"
    }
   ],
   "source": [
    "lst_s"
   ]
  },
  {
   "cell_type": "code",
   "execution_count": 131,
   "id": "d085abe5",
   "metadata": {},
   "outputs": [
    {
     "data": {
      "text/plain": [
       "'sub mul div'"
      ]
     },
     "execution_count": 131,
     "metadata": {},
     "output_type": "execute_result"
    }
   ],
   "source": [
    "\n",
    "\" \".join(lst_s)"
   ]
  },
  {
   "cell_type": "code",
   "execution_count": 140,
   "id": "1a8e3102",
   "metadata": {},
   "outputs": [],
   "source": [
    "b = [\"a\"]*6"
   ]
  },
  {
   "cell_type": "code",
   "execution_count": 142,
   "id": "cb15ae94",
   "metadata": {},
   "outputs": [
    {
     "name": "stdout",
     "output_type": "stream",
     "text": [
      "aaaaaa\n"
     ]
    }
   ],
   "source": [
    "x = \"\"\n",
    "for i in b:\n",
    "    x = x + i\n",
    "print(x)"
   ]
  },
  {
   "cell_type": "code",
   "execution_count": 143,
   "id": "e2a773bc",
   "metadata": {},
   "outputs": [
    {
     "data": {
      "text/plain": [
       "[10, 11, 12, 13, 14]"
      ]
     },
     "execution_count": 143,
     "metadata": {},
     "output_type": "execute_result"
    }
   ],
   "source": [
    "lst = list(range(10, 15, 1))\n",
    "lst"
   ]
  },
  {
   "cell_type": "code",
   "execution_count": null,
   "id": "b512c092",
   "metadata": {},
   "outputs": [],
   "source": [
    "lst = list(range(10, 15, 1))\n",
    "rslt = 0\n",
    "for num in lst:\n",
    "    rslt = rslt + num\n",
    "print(rslt)"
   ]
  },
  {
   "cell_type": "code",
   "execution_count": 145,
   "id": "8f32df99",
   "metadata": {},
   "outputs": [
    {
     "data": {
      "text/plain": [
       "['a', 'a', 'a', 'a', 'a', 'a']"
      ]
     },
     "execution_count": 145,
     "metadata": {},
     "output_type": "execute_result"
    }
   ],
   "source": [
    "b = [\"a\"]*6\n",
    "b"
   ]
  },
  {
   "cell_type": "code",
   "execution_count": 146,
   "id": "721980b2",
   "metadata": {},
   "outputs": [
    {
     "data": {
      "text/plain": [
       "'aaaaaa'"
      ]
     },
     "execution_count": 146,
     "metadata": {},
     "output_type": "execute_result"
    }
   ],
   "source": [
    "\"\".join(b)"
   ]
  },
  {
   "cell_type": "code",
   "execution_count": 152,
   "id": "168751f0",
   "metadata": {},
   "outputs": [],
   "source": [
    "from  timeit import default_timer"
   ]
  },
  {
   "cell_type": "code",
   "execution_count": 153,
   "id": "5e16bf14",
   "metadata": {},
   "outputs": [],
   "source": [
    "start = default_timer()"
   ]
  },
  {
   "cell_type": "code",
   "execution_count": 154,
   "id": "2d8b1c00",
   "metadata": {},
   "outputs": [
    {
     "data": {
      "text/plain": [
       "5178.409362447"
      ]
     },
     "execution_count": 154,
     "metadata": {},
     "output_type": "execute_result"
    }
   ],
   "source": [
    "start"
   ]
  },
  {
   "cell_type": "code",
   "execution_count": 155,
   "id": "bce4c515",
   "metadata": {},
   "outputs": [],
   "source": [
    "stop = default_timer()"
   ]
  },
  {
   "cell_type": "code",
   "execution_count": 156,
   "id": "48747677",
   "metadata": {},
   "outputs": [
    {
     "data": {
      "text/plain": [
       "51.02376318300048"
      ]
     },
     "execution_count": 156,
     "metadata": {},
     "output_type": "execute_result"
    }
   ],
   "source": [
    "stop - start"
   ]
  },
  {
   "cell_type": "code",
   "execution_count": 157,
   "id": "d0b80fdc",
   "metadata": {},
   "outputs": [],
   "source": [
    "from  collections import Counter"
   ]
  },
  {
   "cell_type": "code",
   "execution_count": 176,
   "id": "94377539",
   "metadata": {},
   "outputs": [],
   "source": [
    "a = \"aaaaaaabbbbbbcccccdddfffggghreeejjkk\""
   ]
  },
  {
   "cell_type": "code",
   "execution_count": 177,
   "id": "c7ed23ba",
   "metadata": {},
   "outputs": [],
   "source": [
    "my_counter = Counter(a)"
   ]
  },
  {
   "cell_type": "code",
   "execution_count": 178,
   "id": "d09fd76a",
   "metadata": {},
   "outputs": [
    {
     "name": "stdout",
     "output_type": "stream",
     "text": [
      "Counter({'a': 7, 'b': 6, 'c': 5, 'd': 3, 'f': 3, 'g': 3, 'e': 3, 'j': 2, 'k': 2, 'h': 1, 'r': 1})\n"
     ]
    }
   ],
   "source": [
    "print(my_counter)"
   ]
  },
  {
   "cell_type": "code",
   "execution_count": 179,
   "id": "60deddf4",
   "metadata": {},
   "outputs": [
    {
     "data": {
      "text/plain": [
       "dict_keys(['a', 'b', 'c', 'd', 'f', 'g', 'h', 'r', 'e', 'j', 'k'])"
      ]
     },
     "execution_count": 179,
     "metadata": {},
     "output_type": "execute_result"
    }
   ],
   "source": [
    "my_counter.keys()"
   ]
  },
  {
   "cell_type": "code",
   "execution_count": 180,
   "id": "85ef97d8",
   "metadata": {},
   "outputs": [
    {
     "data": {
      "text/plain": [
       "dict_items([('a', 7), ('b', 6), ('c', 5), ('d', 3), ('f', 3), ('g', 3), ('h', 1), ('r', 1), ('e', 3), ('j', 2), ('k', 2)])"
      ]
     },
     "execution_count": 180,
     "metadata": {},
     "output_type": "execute_result"
    }
   ],
   "source": [
    "my_counter.items()"
   ]
  },
  {
   "cell_type": "code",
   "execution_count": 188,
   "id": "61c0be46",
   "metadata": {},
   "outputs": [
    {
     "data": {
      "text/plain": [
       "[('a', 7), ('b', 6), ('c', 5)]"
      ]
     },
     "execution_count": 188,
     "metadata": {},
     "output_type": "execute_result"
    }
   ],
   "source": [
    "my_counter.most_common(3)[0]"
   ]
  },
  {
   "cell_type": "code",
   "execution_count": 192,
   "id": "39f94dd1",
   "metadata": {},
   "outputs": [
    {
     "data": {
      "text/plain": [
       "('a',\n",
       " 'a',\n",
       " 'a',\n",
       " 'a',\n",
       " 'a',\n",
       " 'a',\n",
       " 'a',\n",
       " 'b',\n",
       " 'b',\n",
       " 'b',\n",
       " 'b',\n",
       " 'b',\n",
       " 'b',\n",
       " 'c',\n",
       " 'c',\n",
       " 'c',\n",
       " 'c',\n",
       " 'c',\n",
       " 'd',\n",
       " 'd',\n",
       " 'd',\n",
       " 'f',\n",
       " 'f',\n",
       " 'f',\n",
       " 'g',\n",
       " 'g',\n",
       " 'g',\n",
       " 'h',\n",
       " 'r',\n",
       " 'e',\n",
       " 'e',\n",
       " 'e',\n",
       " 'j',\n",
       " 'j',\n",
       " 'k',\n",
       " 'k')"
      ]
     },
     "execution_count": 192,
     "metadata": {},
     "output_type": "execute_result"
    }
   ],
   "source": [
    "tuple(my_counter.elements())"
   ]
  },
  {
   "cell_type": "code",
   "execution_count": 193,
   "id": "f06a8c3b",
   "metadata": {},
   "outputs": [],
   "source": [
    "from collections import namedtuple"
   ]
  },
  {
   "cell_type": "code",
   "execution_count": 199,
   "id": "47ba6d61",
   "metadata": {},
   "outputs": [],
   "source": [
    "Point = namedtuple(\"Point\", 'name,place')"
   ]
  },
  {
   "cell_type": "code",
   "execution_count": 200,
   "id": "6f132245",
   "metadata": {},
   "outputs": [],
   "source": [
    "pt = Point(\"sai\", \"hyd\")"
   ]
  },
  {
   "cell_type": "code",
   "execution_count": 201,
   "id": "73e22a4d",
   "metadata": {},
   "outputs": [
    {
     "name": "stdout",
     "output_type": "stream",
     "text": [
      "Point(name='sai', place='hyd')\n"
     ]
    }
   ],
   "source": [
    "print(pt)"
   ]
  },
  {
   "cell_type": "code",
   "execution_count": 202,
   "id": "77fb326d",
   "metadata": {},
   "outputs": [],
   "source": [
    "from collections import OrderedDict"
   ]
  },
  {
   "cell_type": "code",
   "execution_count": 203,
   "id": "a859ec32",
   "metadata": {},
   "outputs": [],
   "source": [
    "ord_dict = OrderedDict()"
   ]
  },
  {
   "cell_type": "code",
   "execution_count": 205,
   "id": "c459b521",
   "metadata": {},
   "outputs": [],
   "source": [
    "ord_dict[\"a\"] = 3\n",
    "ord_dict[\"b\"] = 3"
   ]
  },
  {
   "cell_type": "code",
   "execution_count": 206,
   "id": "a6170a80",
   "metadata": {},
   "outputs": [
    {
     "data": {
      "text/plain": [
       "OrderedDict([('a', 3), ('b', 3)])"
      ]
     },
     "execution_count": 206,
     "metadata": {},
     "output_type": "execute_result"
    }
   ],
   "source": [
    "ord_dict"
   ]
  },
  {
   "cell_type": "code",
   "execution_count": 207,
   "id": "3a983870",
   "metadata": {},
   "outputs": [],
   "source": [
    "from  collections import defaultdict"
   ]
  },
  {
   "cell_type": "code",
   "execution_count": 214,
   "id": "d19955a7",
   "metadata": {},
   "outputs": [],
   "source": [
    "d = defaultdict(float)"
   ]
  },
  {
   "cell_type": "code",
   "execution_count": 215,
   "id": "e3f633b7",
   "metadata": {},
   "outputs": [],
   "source": [
    "d[\"a\"] = 1"
   ]
  },
  {
   "cell_type": "code",
   "execution_count": 216,
   "id": "b31ff6a2",
   "metadata": {},
   "outputs": [],
   "source": [
    "d[\"b\"] =2"
   ]
  },
  {
   "cell_type": "code",
   "execution_count": 217,
   "id": "527915aa",
   "metadata": {},
   "outputs": [
    {
     "data": {
      "text/plain": [
       "defaultdict(float, {'a': 1, 'b': 2})"
      ]
     },
     "execution_count": 217,
     "metadata": {},
     "output_type": "execute_result"
    }
   ],
   "source": [
    "d"
   ]
  },
  {
   "cell_type": "code",
   "execution_count": 218,
   "id": "5e067079",
   "metadata": {},
   "outputs": [
    {
     "data": {
      "text/plain": [
       "0.0"
      ]
     },
     "execution_count": 218,
     "metadata": {},
     "output_type": "execute_result"
    }
   ],
   "source": [
    "d[\"c\"]"
   ]
  },
  {
   "cell_type": "code",
   "execution_count": 219,
   "id": "6358d8fd",
   "metadata": {},
   "outputs": [],
   "source": [
    "from  collections import deque"
   ]
  },
  {
   "cell_type": "code",
   "execution_count": 220,
   "id": "d061f230",
   "metadata": {},
   "outputs": [],
   "source": [
    "d = deque()"
   ]
  },
  {
   "cell_type": "code",
   "execution_count": 221,
   "id": "96e9064c",
   "metadata": {},
   "outputs": [],
   "source": [
    "d.append(1)"
   ]
  },
  {
   "cell_type": "code",
   "execution_count": 222,
   "id": "25aa7e82",
   "metadata": {},
   "outputs": [],
   "source": [
    "d.append(2)"
   ]
  },
  {
   "cell_type": "code",
   "execution_count": 223,
   "id": "6fc0e406",
   "metadata": {},
   "outputs": [
    {
     "name": "stdout",
     "output_type": "stream",
     "text": [
      "deque([1, 2])\n"
     ]
    }
   ],
   "source": [
    "print(d)"
   ]
  },
  {
   "cell_type": "code",
   "execution_count": 224,
   "id": "c6c13e43",
   "metadata": {},
   "outputs": [],
   "source": [
    "d.appendleft(3)"
   ]
  },
  {
   "cell_type": "code",
   "execution_count": 225,
   "id": "b7b0ee4a",
   "metadata": {},
   "outputs": [
    {
     "data": {
      "text/plain": [
       "deque([3, 1, 2])"
      ]
     },
     "execution_count": 225,
     "metadata": {},
     "output_type": "execute_result"
    }
   ],
   "source": [
    "d"
   ]
  },
  {
   "cell_type": "code",
   "execution_count": 226,
   "id": "caa7b594",
   "metadata": {},
   "outputs": [
    {
     "data": {
      "text/plain": [
       "2"
      ]
     },
     "execution_count": 226,
     "metadata": {},
     "output_type": "execute_result"
    }
   ],
   "source": [
    "d.pop()"
   ]
  },
  {
   "cell_type": "code",
   "execution_count": 227,
   "id": "2b019559",
   "metadata": {},
   "outputs": [
    {
     "data": {
      "text/plain": [
       "deque([3, 1])"
      ]
     },
     "execution_count": 227,
     "metadata": {},
     "output_type": "execute_result"
    }
   ],
   "source": [
    "d"
   ]
  },
  {
   "cell_type": "code",
   "execution_count": 228,
   "id": "25bef43f",
   "metadata": {},
   "outputs": [
    {
     "data": {
      "text/plain": [
       "3"
      ]
     },
     "execution_count": 228,
     "metadata": {},
     "output_type": "execute_result"
    }
   ],
   "source": [
    "d.popleft()"
   ]
  },
  {
   "cell_type": "code",
   "execution_count": 229,
   "id": "396ac104",
   "metadata": {},
   "outputs": [
    {
     "data": {
      "text/plain": [
       "deque([1])"
      ]
     },
     "execution_count": 229,
     "metadata": {},
     "output_type": "execute_result"
    }
   ],
   "source": [
    "d"
   ]
  },
  {
   "cell_type": "code",
   "execution_count": 230,
   "id": "77a8a4b3",
   "metadata": {},
   "outputs": [],
   "source": [
    "d.extend([4,5,6])"
   ]
  },
  {
   "cell_type": "code",
   "execution_count": 231,
   "id": "1576a199",
   "metadata": {},
   "outputs": [
    {
     "data": {
      "text/plain": [
       "deque([1, 4, 5, 6])"
      ]
     },
     "execution_count": 231,
     "metadata": {},
     "output_type": "execute_result"
    }
   ],
   "source": [
    "d"
   ]
  },
  {
   "cell_type": "code",
   "execution_count": 232,
   "id": "9c468d64",
   "metadata": {},
   "outputs": [],
   "source": [
    "d.extendleft([4,5,6])"
   ]
  },
  {
   "cell_type": "code",
   "execution_count": 233,
   "id": "a7bfc057",
   "metadata": {},
   "outputs": [
    {
     "data": {
      "text/plain": [
       "deque([6, 5, 4, 1, 4, 5, 6])"
      ]
     },
     "execution_count": 233,
     "metadata": {},
     "output_type": "execute_result"
    }
   ],
   "source": [
    "d"
   ]
  },
  {
   "cell_type": "code",
   "execution_count": 234,
   "id": "508f8c62",
   "metadata": {},
   "outputs": [],
   "source": [
    "d.rotate(1)"
   ]
  },
  {
   "cell_type": "code",
   "execution_count": 235,
   "id": "a4068ca6",
   "metadata": {},
   "outputs": [],
   "source": [
    "d = deque([1,2,3,4,5,6])"
   ]
  },
  {
   "cell_type": "code",
   "execution_count": 236,
   "id": "65c14311",
   "metadata": {},
   "outputs": [
    {
     "data": {
      "text/plain": [
       "deque([1, 2, 3, 4, 5, 6])"
      ]
     },
     "execution_count": 236,
     "metadata": {},
     "output_type": "execute_result"
    }
   ],
   "source": [
    "d"
   ]
  },
  {
   "cell_type": "code",
   "execution_count": 237,
   "id": "bdfb2dda",
   "metadata": {},
   "outputs": [],
   "source": [
    "d.rotate(1)"
   ]
  },
  {
   "cell_type": "code",
   "execution_count": 238,
   "id": "710031fb",
   "metadata": {},
   "outputs": [
    {
     "data": {
      "text/plain": [
       "deque([6, 1, 2, 3, 4, 5])"
      ]
     },
     "execution_count": 238,
     "metadata": {},
     "output_type": "execute_result"
    }
   ],
   "source": [
    "d"
   ]
  },
  {
   "cell_type": "code",
   "execution_count": 239,
   "id": "10d4d474",
   "metadata": {},
   "outputs": [],
   "source": [
    "d.rotate(2)"
   ]
  },
  {
   "cell_type": "code",
   "execution_count": 240,
   "id": "2f487c4b",
   "metadata": {},
   "outputs": [
    {
     "data": {
      "text/plain": [
       "deque([4, 5, 6, 1, 2, 3])"
      ]
     },
     "execution_count": 240,
     "metadata": {},
     "output_type": "execute_result"
    }
   ],
   "source": [
    "d"
   ]
  },
  {
   "cell_type": "code",
   "execution_count": 241,
   "id": "7a94b8be",
   "metadata": {},
   "outputs": [],
   "source": [
    "d.rotate(-2)"
   ]
  },
  {
   "cell_type": "code",
   "execution_count": 242,
   "id": "a3ba837c",
   "metadata": {},
   "outputs": [
    {
     "data": {
      "text/plain": [
       "deque([6, 1, 2, 3, 4, 5])"
      ]
     },
     "execution_count": 242,
     "metadata": {},
     "output_type": "execute_result"
    }
   ],
   "source": [
    "d"
   ]
  },
  {
   "cell_type": "code",
   "execution_count": 243,
   "id": "f901eda9",
   "metadata": {},
   "outputs": [],
   "source": [
    "d.rotate(-1)"
   ]
  },
  {
   "cell_type": "code",
   "execution_count": 244,
   "id": "ca88ec56",
   "metadata": {},
   "outputs": [
    {
     "data": {
      "text/plain": [
       "deque([1, 2, 3, 4, 5, 6])"
      ]
     },
     "execution_count": 244,
     "metadata": {},
     "output_type": "execute_result"
    }
   ],
   "source": [
    "d"
   ]
  },
  {
   "cell_type": "code",
   "execution_count": null,
   "id": "fd75a896",
   "metadata": {},
   "outputs": [],
   "source": []
  }
 ],
 "metadata": {
  "kernelspec": {
   "display_name": "algo_trading",
   "language": "python",
   "name": "algo_trading"
  },
  "language_info": {
   "codemirror_mode": {
    "name": "ipython",
    "version": 3
   },
   "file_extension": ".py",
   "mimetype": "text/x-python",
   "name": "python",
   "nbconvert_exporter": "python",
   "pygments_lexer": "ipython3",
   "version": "3.10.10"
  }
 },
 "nbformat": 4,
 "nbformat_minor": 5
}
