{
 "cells": [
  {
   "cell_type": "markdown",
   "id": "07bdeaa5",
   "metadata": {},
   "source": [
    "# SET\n"
   ]
  },
  {
   "cell_type": "code",
   "execution_count": 1,
   "id": "e6c3a564",
   "metadata": {},
   "outputs": [],
   "source": [
    "#unordered, mutable and no duplicates"
   ]
  },
  {
   "cell_type": "code",
   "execution_count": 4,
   "id": "fa92097f",
   "metadata": {},
   "outputs": [],
   "source": [
    "myset = {1, 2 ,3 ,1 ,2, 2,2 }"
   ]
  },
  {
   "cell_type": "code",
   "execution_count": 5,
   "id": "ee35e388",
   "metadata": {},
   "outputs": [
    {
     "data": {
      "text/plain": [
       "{1, 2, 3}"
      ]
     },
     "execution_count": 5,
     "metadata": {},
     "output_type": "execute_result"
    }
   ],
   "source": [
    "myset"
   ]
  },
  {
   "cell_type": "code",
   "execution_count": 6,
   "id": "09bebfbb",
   "metadata": {},
   "outputs": [],
   "source": [
    "myset1 = set([1,1,1, 2,2,2,3,3,3,3])"
   ]
  },
  {
   "cell_type": "code",
   "execution_count": 7,
   "id": "afec6191",
   "metadata": {},
   "outputs": [
    {
     "data": {
      "text/plain": [
       "{1, 2, 3}"
      ]
     },
     "execution_count": 7,
     "metadata": {},
     "output_type": "execute_result"
    }
   ],
   "source": [
    "myset1"
   ]
  },
  {
   "cell_type": "code",
   "execution_count": 8,
   "id": "1e01aee5",
   "metadata": {},
   "outputs": [],
   "source": [
    "#The above are two different ways to make a set"
   ]
  },
  {
   "cell_type": "code",
   "execution_count": 11,
   "id": "98bae61b",
   "metadata": {},
   "outputs": [],
   "source": [
    "myset = set(\"Hello\")"
   ]
  },
  {
   "cell_type": "code",
   "execution_count": 12,
   "id": "336982bd",
   "metadata": {},
   "outputs": [
    {
     "data": {
      "text/plain": [
       "{'H', 'e', 'l', 'o'}"
      ]
     },
     "execution_count": 12,
     "metadata": {},
     "output_type": "execute_result"
    }
   ],
   "source": [
    "myset"
   ]
  },
  {
   "cell_type": "code",
   "execution_count": 13,
   "id": "fe21c060",
   "metadata": {},
   "outputs": [
    {
     "data": {
      "text/plain": [
       "4"
      ]
     },
     "execution_count": 13,
     "metadata": {},
     "output_type": "execute_result"
    }
   ],
   "source": [
    "len(myset)"
   ]
  },
  {
   "cell_type": "code",
   "execution_count": 14,
   "id": "18fe2b7a",
   "metadata": {},
   "outputs": [],
   "source": [
    "myset.add(1)"
   ]
  },
  {
   "cell_type": "code",
   "execution_count": 15,
   "id": "2ed010d2",
   "metadata": {},
   "outputs": [
    {
     "data": {
      "text/plain": [
       "{1, 'H', 'e', 'l', 'o'}"
      ]
     },
     "execution_count": 15,
     "metadata": {},
     "output_type": "execute_result"
    }
   ],
   "source": [
    "myset"
   ]
  },
  {
   "cell_type": "code",
   "execution_count": 16,
   "id": "7fe51469",
   "metadata": {},
   "outputs": [],
   "source": [
    "myset.remove(\"H\")"
   ]
  },
  {
   "cell_type": "code",
   "execution_count": 17,
   "id": "5354d7e6",
   "metadata": {},
   "outputs": [
    {
     "data": {
      "text/plain": [
       "{1, 'e', 'l', 'o'}"
      ]
     },
     "execution_count": 17,
     "metadata": {},
     "output_type": "execute_result"
    }
   ],
   "source": [
    "myset"
   ]
  },
  {
   "cell_type": "code",
   "execution_count": 18,
   "id": "82355666",
   "metadata": {},
   "outputs": [
    {
     "ename": "KeyError",
     "evalue": "'a'",
     "output_type": "error",
     "traceback": [
      "\u001b[0;31m---------------------------------------------------------------------------\u001b[0m",
      "\u001b[0;31mKeyError\u001b[0m                                  Traceback (most recent call last)",
      "Cell \u001b[0;32mIn[18], line 1\u001b[0m\n\u001b[0;32m----> 1\u001b[0m \u001b[43mmyset\u001b[49m\u001b[38;5;241;43m.\u001b[39;49m\u001b[43mremove\u001b[49m\u001b[43m(\u001b[49m\u001b[38;5;124;43m\"\u001b[39;49m\u001b[38;5;124;43ma\u001b[39;49m\u001b[38;5;124;43m\"\u001b[39;49m\u001b[43m)\u001b[49m\n",
      "\u001b[0;31mKeyError\u001b[0m: 'a'"
     ]
    }
   ],
   "source": [
    "myset.remove(\"a\")"
   ]
  },
  {
   "cell_type": "code",
   "execution_count": 19,
   "id": "18069242",
   "metadata": {},
   "outputs": [],
   "source": [
    "myset.discard(\"a\")"
   ]
  },
  {
   "cell_type": "code",
   "execution_count": 20,
   "id": "0875315a",
   "metadata": {},
   "outputs": [
    {
     "data": {
      "text/plain": [
       "True"
      ]
     },
     "execution_count": 20,
     "metadata": {},
     "output_type": "execute_result"
    }
   ],
   "source": [
    "\"e\" in  myset"
   ]
  },
  {
   "cell_type": "code",
   "execution_count": 21,
   "id": "6eeb68fd",
   "metadata": {},
   "outputs": [],
   "source": [
    "empty = {}"
   ]
  },
  {
   "cell_type": "code",
   "execution_count": 22,
   "id": "31f29719",
   "metadata": {},
   "outputs": [
    {
     "data": {
      "text/plain": [
       "dict"
      ]
     },
     "execution_count": 22,
     "metadata": {},
     "output_type": "execute_result"
    }
   ],
   "source": [
    "type(empty)"
   ]
  },
  {
   "cell_type": "code",
   "execution_count": 23,
   "id": "c605a625",
   "metadata": {},
   "outputs": [],
   "source": [
    "odds = {1, 3, 5, 7 ,9}\n",
    "evens = {0, 2, 4, 6 ,8}\n",
    "prime = {2, 3, 5, 7}"
   ]
  },
  {
   "cell_type": "code",
   "execution_count": 24,
   "id": "0290084c",
   "metadata": {},
   "outputs": [],
   "source": [
    "#union\n",
    "u = odds.union(evens)"
   ]
  },
  {
   "cell_type": "code",
   "execution_count": 25,
   "id": "8908cd63",
   "metadata": {},
   "outputs": [
    {
     "data": {
      "text/plain": [
       "{0, 1, 2, 3, 4, 5, 6, 7, 8, 9}"
      ]
     },
     "execution_count": 25,
     "metadata": {},
     "output_type": "execute_result"
    }
   ],
   "source": [
    "u"
   ]
  },
  {
   "cell_type": "code",
   "execution_count": 26,
   "id": "0bdd0127",
   "metadata": {},
   "outputs": [],
   "source": [
    "i = odds.intersection(evens)"
   ]
  },
  {
   "cell_type": "code",
   "execution_count": 27,
   "id": "01f422c7",
   "metadata": {},
   "outputs": [
    {
     "data": {
      "text/plain": [
       "set()"
      ]
     },
     "execution_count": 27,
     "metadata": {},
     "output_type": "execute_result"
    }
   ],
   "source": [
    "i"
   ]
  },
  {
   "cell_type": "code",
   "execution_count": 28,
   "id": "f18bdd3d",
   "metadata": {},
   "outputs": [],
   "source": [
    "i = odds.intersection(prime)"
   ]
  },
  {
   "cell_type": "code",
   "execution_count": 29,
   "id": "0fcaa689",
   "metadata": {},
   "outputs": [
    {
     "data": {
      "text/plain": [
       "{3, 5, 7}"
      ]
     },
     "execution_count": 29,
     "metadata": {},
     "output_type": "execute_result"
    }
   ],
   "source": [
    "i"
   ]
  },
  {
   "cell_type": "code",
   "execution_count": 30,
   "id": "b2e4abf8",
   "metadata": {},
   "outputs": [],
   "source": [
    "i = evens.intersection(prime)"
   ]
  },
  {
   "cell_type": "code",
   "execution_count": 31,
   "id": "3bd6fea2",
   "metadata": {},
   "outputs": [
    {
     "data": {
      "text/plain": [
       "{2}"
      ]
     },
     "execution_count": 31,
     "metadata": {},
     "output_type": "execute_result"
    }
   ],
   "source": [
    "i"
   ]
  },
  {
   "cell_type": "code",
   "execution_count": 32,
   "id": "8f8f7540",
   "metadata": {},
   "outputs": [],
   "source": []
  },
  {
   "cell_type": "code",
   "execution_count": 49,
   "id": "a43c7690",
   "metadata": {},
   "outputs": [
    {
     "data": {
      "text/plain": [
       "{1, 2, 3, 4, 5, 6, 7, 8, 9}"
      ]
     },
     "execution_count": 49,
     "metadata": {},
     "output_type": "execute_result"
    }
   ],
   "source": [
    "seta = set(range(1,10, 1))\n",
    "seta"
   ]
  },
  {
   "cell_type": "code",
   "execution_count": 50,
   "id": "6466eb7d",
   "metadata": {},
   "outputs": [],
   "source": [
    "setb = {1 ,2 ,3}"
   ]
  },
  {
   "cell_type": "code",
   "execution_count": 51,
   "id": "8a7b020b",
   "metadata": {},
   "outputs": [
    {
     "data": {
      "text/plain": [
       "{4, 5, 6, 7, 8, 9}"
      ]
     },
     "execution_count": 51,
     "metadata": {},
     "output_type": "execute_result"
    }
   ],
   "source": [
    "diff = seta.difference(setb)\n",
    "diff"
   ]
  },
  {
   "cell_type": "code",
   "execution_count": 53,
   "id": "ddae993a",
   "metadata": {},
   "outputs": [
    {
     "data": {
      "text/plain": [
       "True"
      ]
     },
     "execution_count": 53,
     "metadata": {},
     "output_type": "execute_result"
    }
   ],
   "source": [
    "setb.issubset(seta)"
   ]
  },
  {
   "cell_type": "code",
   "execution_count": 54,
   "id": "bfcd068c",
   "metadata": {},
   "outputs": [],
   "source": [
    "a  = frozenset([1 , 2, 2, 4, 3, 3])"
   ]
  },
  {
   "cell_type": "code",
   "execution_count": 57,
   "id": "b068ddbb",
   "metadata": {},
   "outputs": [
    {
     "data": {
      "text/plain": [
       "frozenset({1, 2, 3, 4})"
      ]
     },
     "execution_count": 57,
     "metadata": {},
     "output_type": "execute_result"
    }
   ],
   "source": [
    "a\n",
    "#immutable"
   ]
  },
  {
   "cell_type": "code",
   "execution_count": 56,
   "id": "8c445d65",
   "metadata": {},
   "outputs": [
    {
     "ename": "AttributeError",
     "evalue": "'frozenset' object has no attribute 'add'",
     "output_type": "error",
     "traceback": [
      "\u001b[0;31m---------------------------------------------------------------------------\u001b[0m",
      "\u001b[0;31mAttributeError\u001b[0m                            Traceback (most recent call last)",
      "Cell \u001b[0;32mIn[56], line 1\u001b[0m\n\u001b[0;32m----> 1\u001b[0m \u001b[43ma\u001b[49m\u001b[38;5;241;43m.\u001b[39;49m\u001b[43madd\u001b[49m(\u001b[38;5;241m1\u001b[39m)\n",
      "\u001b[0;31mAttributeError\u001b[0m: 'frozenset' object has no attribute 'add'"
     ]
    }
   ],
   "source": []
  },
  {
   "cell_type": "markdown",
   "id": "65e9be2a",
   "metadata": {},
   "source": [
    "# Strings"
   ]
  },
  {
   "cell_type": "code",
   "execution_count": 58,
   "id": "808b3895",
   "metadata": {},
   "outputs": [],
   "source": [
    "#ordered, immutable, "
   ]
  },
  {
   "cell_type": "code",
   "execution_count": 67,
   "id": "50d30e9e",
   "metadata": {},
   "outputs": [],
   "source": [
    "mystring = \"I'mabcdef\""
   ]
  },
  {
   "cell_type": "code",
   "execution_count": 68,
   "id": "647be007",
   "metadata": {},
   "outputs": [
    {
     "data": {
      "text/plain": [
       "\"I'mabcdef\""
      ]
     },
     "execution_count": 68,
     "metadata": {},
     "output_type": "execute_result"
    }
   ],
   "source": [
    "mystring"
   ]
  },
  {
   "cell_type": "code",
   "execution_count": 69,
   "id": "83d3a032",
   "metadata": {},
   "outputs": [
    {
     "data": {
      "text/plain": [
       "'\\nI am\\npreparing\\n'"
      ]
     },
     "execution_count": 69,
     "metadata": {},
     "output_type": "execute_result"
    }
   ],
   "source": [
    "\"\"\"\n",
    "I am\n",
    "preparing\n",
    "\"\"\""
   ]
  },
  {
   "cell_type": "code",
   "execution_count": 85,
   "id": "4726a5fa",
   "metadata": {},
   "outputs": [],
   "source": [
    "mystring = \"mam\""
   ]
  },
  {
   "cell_type": "code",
   "execution_count": 72,
   "id": "c3352054",
   "metadata": {},
   "outputs": [
    {
     "ename": "TypeError",
     "evalue": "'str' object does not support item assignment",
     "output_type": "error",
     "traceback": [
      "\u001b[0;31m---------------------------------------------------------------------------\u001b[0m",
      "\u001b[0;31mTypeError\u001b[0m                                 Traceback (most recent call last)",
      "Cell \u001b[0;32mIn[72], line 1\u001b[0m\n\u001b[0;32m----> 1\u001b[0m \u001b[43mmystring\u001b[49m\u001b[43m[\u001b[49m\u001b[38;5;241;43m0\u001b[39;49m\u001b[43m]\u001b[49m \u001b[38;5;241m=\u001b[39m \u001b[38;5;124m\"\u001b[39m\u001b[38;5;124mp\u001b[39m\u001b[38;5;124m\"\u001b[39m\n",
      "\u001b[0;31mTypeError\u001b[0m: 'str' object does not support item assignment"
     ]
    }
   ],
   "source": [
    "mystring[0] = \"p\""
   ]
  },
  {
   "cell_type": "code",
   "execution_count": 76,
   "id": "45da4a7a",
   "metadata": {},
   "outputs": [
    {
     "data": {
      "text/plain": [
       "'Hell'"
      ]
     },
     "execution_count": 76,
     "metadata": {},
     "output_type": "execute_result"
    }
   ],
   "source": [
    "mystring[0:4]\n"
   ]
  },
  {
   "cell_type": "code",
   "execution_count": 84,
   "id": "9554fd41",
   "metadata": {},
   "outputs": [
    {
     "data": {
      "text/plain": [
       "True"
      ]
     },
     "execution_count": 84,
     "metadata": {},
     "output_type": "execute_result"
    }
   ],
   "source": [
    "mystring == mystring[::-1] #start:end:stepsize"
   ]
  },
  {
   "cell_type": "code",
   "execution_count": 82,
   "id": "2972c7d5",
   "metadata": {},
   "outputs": [
    {
     "data": {
      "text/plain": [
       "'Hlo'"
      ]
     },
     "execution_count": 82,
     "metadata": {},
     "output_type": "execute_result"
    }
   ],
   "source": [
    "mystring[0:5:2]"
   ]
  },
  {
   "cell_type": "code",
   "execution_count": 94,
   "id": "6e75434f",
   "metadata": {},
   "outputs": [
    {
     "data": {
      "text/plain": [
       "'I am        preparing            python      '"
      ]
     },
     "execution_count": 94,
     "metadata": {},
     "output_type": "execute_result"
    }
   ],
   "source": [
    "a = \"I am        preparing\"\n",
    "b = \"           python      \"\n",
    "c = a +\" \" +  b \n",
    "c"
   ]
  },
  {
   "cell_type": "code",
   "execution_count": 93,
   "id": "d5e8e349",
   "metadata": {},
   "outputs": [
    {
     "data": {
      "text/plain": [
       "True"
      ]
     },
     "execution_count": 93,
     "metadata": {},
     "output_type": "execute_result"
    }
   ],
   "source": [
    "\"y\" in b"
   ]
  },
  {
   "cell_type": "code",
   "execution_count": 104,
   "id": "bbe79015",
   "metadata": {},
   "outputs": [
    {
     "data": {
      "text/plain": [
       "' HEllo    '"
      ]
     },
     "execution_count": 104,
     "metadata": {},
     "output_type": "execute_result"
    }
   ],
   "source": [
    "c"
   ]
  },
  {
   "cell_type": "code",
   "execution_count": 105,
   "id": "a30e8426",
   "metadata": {},
   "outputs": [
    {
     "data": {
      "text/plain": [
       "' HELLO    '"
      ]
     },
     "execution_count": 105,
     "metadata": {},
     "output_type": "execute_result"
    }
   ],
   "source": [
    "c.upper()"
   ]
  },
  {
   "cell_type": "code",
   "execution_count": 106,
   "id": "81eaabab",
   "metadata": {},
   "outputs": [
    {
     "data": {
      "text/plain": [
       "' hello    '"
      ]
     },
     "execution_count": 106,
     "metadata": {},
     "output_type": "execute_result"
    }
   ],
   "source": [
    "c.lower()"
   ]
  },
  {
   "cell_type": "code",
   "execution_count": 107,
   "id": "6828017e",
   "metadata": {},
   "outputs": [],
   "source": [
    "c = \"hello\""
   ]
  },
  {
   "cell_type": "code",
   "execution_count": 109,
   "id": "68b58d09",
   "metadata": {},
   "outputs": [
    {
     "data": {
      "text/plain": [
       "True"
      ]
     },
     "execution_count": 109,
     "metadata": {},
     "output_type": "execute_result"
    }
   ],
   "source": [
    "c.startswith(\"hel\")"
   ]
  },
  {
   "cell_type": "code",
   "execution_count": 110,
   "id": "1d8d080a",
   "metadata": {},
   "outputs": [
    {
     "data": {
      "text/plain": [
       "True"
      ]
     },
     "execution_count": 110,
     "metadata": {},
     "output_type": "execute_result"
    }
   ],
   "source": [
    "c.endswith(\"lo\")"
   ]
  },
  {
   "cell_type": "code",
   "execution_count": 111,
   "id": "30198612",
   "metadata": {},
   "outputs": [
    {
     "data": {
      "text/plain": [
       "2"
      ]
     },
     "execution_count": 111,
     "metadata": {},
     "output_type": "execute_result"
    }
   ],
   "source": [
    "c.count(\"l\")"
   ]
  },
  {
   "cell_type": "code",
   "execution_count": 112,
   "id": "8e979e33",
   "metadata": {},
   "outputs": [
    {
     "name": "stdout",
     "output_type": "stream",
     "text": [
      "HELLO\n"
     ]
    }
   ],
   "source": [
    "print(c.upper())"
   ]
  },
  {
   "cell_type": "code",
   "execution_count": 113,
   "id": "c5c5d492",
   "metadata": {},
   "outputs": [],
   "source": [
    "a = \"I am        preparing\"\n",
    "b = \"           python      \"\n",
    "d = a +\" \" +  b "
   ]
  },
  {
   "cell_type": "code",
   "execution_count": 114,
   "id": "8800ce9d",
   "metadata": {},
   "outputs": [
    {
     "data": {
      "text/plain": [
       "'I am        preparing            python      '"
      ]
     },
     "execution_count": 114,
     "metadata": {},
     "output_type": "execute_result"
    }
   ],
   "source": [
    "d"
   ]
  },
  {
   "cell_type": "code",
   "execution_count": 115,
   "id": "009576cf",
   "metadata": {},
   "outputs": [
    {
     "name": "stdout",
     "output_type": "stream",
     "text": [
      "I AM        PREPARING            PYTHON      \n"
     ]
    }
   ],
   "source": [
    "print(d.upper())"
   ]
  },
  {
   "cell_type": "code",
   "execution_count": 117,
   "id": "68a7c512",
   "metadata": {},
   "outputs": [
    {
     "data": {
      "text/plain": [
       "'I was        preparing            python      '"
      ]
     },
     "execution_count": 117,
     "metadata": {},
     "output_type": "execute_result"
    }
   ],
   "source": [
    "d.replace(\"am\", \"was\")"
   ]
  },
  {
   "cell_type": "code",
   "execution_count": 118,
   "id": "14177290",
   "metadata": {},
   "outputs": [
    {
     "data": {
      "text/plain": [
       "'Iampreparingpython'"
      ]
     },
     "execution_count": 118,
     "metadata": {},
     "output_type": "execute_result"
    }
   ],
   "source": [
    "d.replace(\" \", \"\")"
   ]
  },
  {
   "cell_type": "code",
   "execution_count": 132,
   "id": "28b0394a",
   "metadata": {},
   "outputs": [],
   "source": [
    "s = \"how,are,you\""
   ]
  },
  {
   "cell_type": "code",
   "execution_count": 134,
   "id": "ea9866d0",
   "metadata": {},
   "outputs": [
    {
     "data": {
      "text/plain": [
       "['how', 'are', 'you']"
      ]
     },
     "execution_count": 134,
     "metadata": {},
     "output_type": "execute_result"
    }
   ],
   "source": [
    "s.split(\",\")"
   ]
  },
  {
   "cell_type": "code",
   "execution_count": 135,
   "id": "90fa6cc1",
   "metadata": {},
   "outputs": [],
   "source": [
    "s = \"sub mul div\""
   ]
  },
  {
   "cell_type": "code",
   "execution_count": 136,
   "id": "0e29b238",
   "metadata": {},
   "outputs": [],
   "source": [
    "lst_s = s.split(\" \")"
   ]
  },
  {
   "cell_type": "code",
   "execution_count": 137,
   "id": "8c24fb16",
   "metadata": {},
   "outputs": [
    {
     "data": {
      "text/plain": [
       "['sub', 'mul', 'div']"
      ]
     },
     "execution_count": 137,
     "metadata": {},
     "output_type": "execute_result"
    }
   ],
   "source": [
    "lst_s"
   ]
  },
  {
   "cell_type": "code",
   "execution_count": 128,
   "id": "ca0677c8",
   "metadata": {},
   "outputs": [],
   "source": [
    "for oper in lst_s:\n",
    "    if oper == \"add\":\n",
    "        print(\"lets add\")\n",
    "        "
   ]
  },
  {
   "cell_type": "code",
   "execution_count": 129,
   "id": "6608dfc2",
   "metadata": {},
   "outputs": [
    {
     "data": {
      "text/plain": [
       "['sub', 'mul', 'div']"
      ]
     },
     "execution_count": 129,
     "metadata": {},
     "output_type": "execute_result"
    }
   ],
   "source": [
    "lst_s"
   ]
  },
  {
   "cell_type": "code",
   "execution_count": 131,
   "id": "188c7142",
   "metadata": {},
   "outputs": [
    {
     "data": {
      "text/plain": [
       "'sub mul div'"
      ]
     },
     "execution_count": 131,
     "metadata": {},
     "output_type": "execute_result"
    }
   ],
   "source": [
    "\n",
    "\" \".join(lst_s)"
   ]
  },
  {
   "cell_type": "code",
   "execution_count": 140,
   "id": "e9fa95b3",
   "metadata": {},
   "outputs": [],
   "source": [
    "b = [\"a\"]*6"
   ]
  },
  {
   "cell_type": "code",
   "execution_count": 142,
   "id": "7a59b16f",
   "metadata": {},
   "outputs": [
    {
     "name": "stdout",
     "output_type": "stream",
     "text": [
      "aaaaaa\n"
     ]
    }
   ],
   "source": [
    "x = \"\"\n",
    "for i in b:\n",
    "    x = x + i\n",
    "print(x)"
   ]
  },
  {
   "cell_type": "code",
   "execution_count": 143,
   "id": "152bfa53",
   "metadata": {},
   "outputs": [
    {
     "data": {
      "text/plain": [
       "[10, 11, 12, 13, 14]"
      ]
     },
     "execution_count": 143,
     "metadata": {},
     "output_type": "execute_result"
    }
   ],
   "source": [
    "lst = list(range(10, 15, 1))\n",
    "lst"
   ]
  },
  {
   "cell_type": "code",
   "execution_count": null,
   "id": "0861bb3f",
   "metadata": {},
   "outputs": [],
   "source": [
    "lst = list(range(10, 15, 1))\n",
    "rslt = 0\n",
    "for num in lst:\n",
    "    rslt = rslt + num\n",
    "print(rslt)"
   ]
  },
  {
   "cell_type": "code",
   "execution_count": 145,
   "id": "a0c12af8",
   "metadata": {},
   "outputs": [
    {
     "data": {
      "text/plain": [
       "['a', 'a', 'a', 'a', 'a', 'a']"
      ]
     },
     "execution_count": 145,
     "metadata": {},
     "output_type": "execute_result"
    }
   ],
   "source": [
    "b = [\"a\"]*6\n",
    "b"
   ]
  },
  {
   "cell_type": "code",
   "execution_count": 146,
   "id": "d663a09e",
   "metadata": {},
   "outputs": [
    {
     "data": {
      "text/plain": [
       "'aaaaaa'"
      ]
     },
     "execution_count": 146,
     "metadata": {},
     "output_type": "execute_result"
    }
   ],
   "source": [
    "\"\".join(b)"
   ]
  },
  {
   "cell_type": "code",
   "execution_count": 152,
   "id": "94bded49",
   "metadata": {},
   "outputs": [],
   "source": [
    "from  timeit import default_timer"
   ]
  },
  {
   "cell_type": "code",
   "execution_count": 153,
   "id": "0dcd9069",
   "metadata": {},
   "outputs": [],
   "source": [
    "start = default_timer()"
   ]
  },
  {
   "cell_type": "code",
   "execution_count": 154,
   "id": "8a34d704",
   "metadata": {},
   "outputs": [
    {
     "data": {
      "text/plain": [
       "5178.409362447"
      ]
     },
     "execution_count": 154,
     "metadata": {},
     "output_type": "execute_result"
    }
   ],
   "source": [
    "start"
   ]
  },
  {
   "cell_type": "code",
   "execution_count": 155,
   "id": "73e0fdb5",
   "metadata": {},
   "outputs": [],
   "source": [
    "stop = default_timer()"
   ]
  },
  {
   "cell_type": "code",
   "execution_count": 156,
   "id": "b3460b15",
   "metadata": {},
   "outputs": [
    {
     "data": {
      "text/plain": [
       "51.02376318300048"
      ]
     },
     "execution_count": 156,
     "metadata": {},
     "output_type": "execute_result"
    }
   ],
   "source": [
    "stop - start"
   ]
  },
  {
   "cell_type": "code",
   "execution_count": null,
   "id": "fb763046",
   "metadata": {},
   "outputs": [],
   "source": []
  }
 ],
 "metadata": {
  "kernelspec": {
   "display_name": "algo_trading",
   "language": "python",
   "name": "algo_trading"
  },
  "language_info": {
   "codemirror_mode": {
    "name": "ipython",
    "version": 3
   },
   "file_extension": ".py",
   "mimetype": "text/x-python",
   "name": "python",
   "nbconvert_exporter": "python",
   "pygments_lexer": "ipython3",
   "version": "3.10.10"
  }
 },
 "nbformat": 4,
 "nbformat_minor": 5
}
