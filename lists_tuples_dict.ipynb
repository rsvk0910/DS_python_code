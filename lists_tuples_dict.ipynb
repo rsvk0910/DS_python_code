{
 "cells": [
  {
   "cell_type": "code",
   "execution_count": 1,
   "id": "6cdf3c6a",
   "metadata": {},
   "outputs": [],
   "source": [
    "lst1 = [10, 20, 30 ,40]\n"
   ]
  },
  {
   "cell_type": "markdown",
   "id": "c5d65955",
   "metadata": {},
   "source": [
    "# LIST- ordered, mutable and allows duplicate elements"
   ]
  },
  {
   "cell_type": "code",
   "execution_count": 5,
   "id": "d19dca74",
   "metadata": {},
   "outputs": [
    {
     "data": {
      "text/plain": [
       "10"
      ]
     },
     "execution_count": 5,
     "metadata": {},
     "output_type": "execute_result"
    }
   ],
   "source": [
    "lst1[0]"
   ]
  },
  {
   "cell_type": "code",
   "execution_count": 6,
   "id": "a0777e09",
   "metadata": {},
   "outputs": [
    {
     "data": {
      "text/plain": [
       "True"
      ]
     },
     "execution_count": 6,
     "metadata": {},
     "output_type": "execute_result"
    }
   ],
   "source": [
    "10 in  lst1"
   ]
  },
  {
   "cell_type": "code",
   "execution_count": 7,
   "id": "48b48261",
   "metadata": {},
   "outputs": [],
   "source": [
    "lst2 = [\"a\", \"b \", \"c\"]"
   ]
  },
  {
   "cell_type": "code",
   "execution_count": 9,
   "id": "84a6403b",
   "metadata": {},
   "outputs": [
    {
     "data": {
      "text/plain": [
       "False"
      ]
     },
     "execution_count": 9,
     "metadata": {},
     "output_type": "execute_result"
    }
   ],
   "source": [
    "\"d\" in  lst2"
   ]
  },
  {
   "cell_type": "code",
   "execution_count": 10,
   "id": "f9ada28f",
   "metadata": {},
   "outputs": [
    {
     "data": {
      "text/plain": [
       "4"
      ]
     },
     "execution_count": 10,
     "metadata": {},
     "output_type": "execute_result"
    }
   ],
   "source": [
    "len(lst1)"
   ]
  },
  {
   "cell_type": "code",
   "execution_count": 11,
   "id": "64e03ff1",
   "metadata": {},
   "outputs": [
    {
     "name": "stdout",
     "output_type": "stream",
     "text": [
      "list is not empty\n"
     ]
    }
   ],
   "source": [
    "if len(lst1) > 0:\n",
    "    print(\"list is not empty\")\n",
    "else:\n",
    "    print(\"list is empty\")"
   ]
  },
  {
   "cell_type": "code",
   "execution_count": 12,
   "id": "b167ebb0",
   "metadata": {},
   "outputs": [],
   "source": [
    "lst1.append(\"6\")"
   ]
  },
  {
   "cell_type": "code",
   "execution_count": 13,
   "id": "ab28e2a6",
   "metadata": {},
   "outputs": [
    {
     "data": {
      "text/plain": [
       "[10, 20, 30, 40, '6']"
      ]
     },
     "execution_count": 13,
     "metadata": {},
     "output_type": "execute_result"
    }
   ],
   "source": [
    "lst1"
   ]
  },
  {
   "cell_type": "code",
   "execution_count": 14,
   "id": "b37fa28f",
   "metadata": {},
   "outputs": [],
   "source": [
    "lst1.insert(1, \"om sairam\")"
   ]
  },
  {
   "cell_type": "code",
   "execution_count": 15,
   "id": "036e4906",
   "metadata": {},
   "outputs": [
    {
     "data": {
      "text/plain": [
       "[10, 'om sairam', 20, 30, 40, '6']"
      ]
     },
     "execution_count": 15,
     "metadata": {},
     "output_type": "execute_result"
    }
   ],
   "source": [
    "lst1"
   ]
  },
  {
   "cell_type": "code",
   "execution_count": 16,
   "id": "8d4eb47c",
   "metadata": {},
   "outputs": [],
   "source": [
    "lst1 = [1 ,1, 2,2,2 ]"
   ]
  },
  {
   "cell_type": "code",
   "execution_count": 17,
   "id": "a62a75ce",
   "metadata": {},
   "outputs": [
    {
     "data": {
      "text/plain": [
       "[1, 1, 2, 2, 2]"
      ]
     },
     "execution_count": 17,
     "metadata": {},
     "output_type": "execute_result"
    }
   ],
   "source": [
    "lst1"
   ]
  },
  {
   "cell_type": "code",
   "execution_count": 18,
   "id": "52d913f3",
   "metadata": {},
   "outputs": [],
   "source": [
    "lst1 = [10, 20, 30 ,40]"
   ]
  },
  {
   "cell_type": "code",
   "execution_count": 19,
   "id": "b7adf76e",
   "metadata": {},
   "outputs": [],
   "source": [
    "lst1.remove(10)"
   ]
  },
  {
   "cell_type": "code",
   "execution_count": 20,
   "id": "69dfab5c",
   "metadata": {},
   "outputs": [
    {
     "data": {
      "text/plain": [
       "[20, 30, 40]"
      ]
     },
     "execution_count": 20,
     "metadata": {},
     "output_type": "execute_result"
    }
   ],
   "source": [
    "lst1"
   ]
  },
  {
   "cell_type": "code",
   "execution_count": 21,
   "id": "8561220d",
   "metadata": {},
   "outputs": [
    {
     "ename": "ValueError",
     "evalue": "list.remove(x): x not in list",
     "output_type": "error",
     "traceback": [
      "\u001b[0;31m---------------------------------------------------------------------------\u001b[0m",
      "\u001b[0;31mValueError\u001b[0m                                Traceback (most recent call last)",
      "Cell \u001b[0;32mIn[21], line 1\u001b[0m\n\u001b[0;32m----> 1\u001b[0m \u001b[43mlst1\u001b[49m\u001b[38;5;241;43m.\u001b[39;49m\u001b[43mremove\u001b[49m\u001b[43m(\u001b[49m\u001b[38;5;241;43m50\u001b[39;49m\u001b[43m)\u001b[49m\n",
      "\u001b[0;31mValueError\u001b[0m: list.remove(x): x not in list"
     ]
    }
   ],
   "source": [
    "lst1.remove(50)"
   ]
  },
  {
   "cell_type": "code",
   "execution_count": 22,
   "id": "1fef4890",
   "metadata": {},
   "outputs": [
    {
     "data": {
      "text/plain": [
       "[20, 30, 40]"
      ]
     },
     "execution_count": 22,
     "metadata": {},
     "output_type": "execute_result"
    }
   ],
   "source": [
    "lst1"
   ]
  },
  {
   "cell_type": "code",
   "execution_count": 23,
   "id": "5492454c",
   "metadata": {},
   "outputs": [],
   "source": [
    "lst1.reverse()"
   ]
  },
  {
   "cell_type": "code",
   "execution_count": 24,
   "id": "1d9175df",
   "metadata": {},
   "outputs": [
    {
     "data": {
      "text/plain": [
       "[40, 30, 20]"
      ]
     },
     "execution_count": 24,
     "metadata": {},
     "output_type": "execute_result"
    }
   ],
   "source": [
    "lst1"
   ]
  },
  {
   "cell_type": "code",
   "execution_count": 26,
   "id": "4ac20656",
   "metadata": {},
   "outputs": [],
   "source": [
    "lst1.sort()"
   ]
  },
  {
   "cell_type": "code",
   "execution_count": 27,
   "id": "b0735b16",
   "metadata": {},
   "outputs": [
    {
     "data": {
      "text/plain": [
       "[20, 30, 40]"
      ]
     },
     "execution_count": 27,
     "metadata": {},
     "output_type": "execute_result"
    }
   ],
   "source": [
    "lst1"
   ]
  },
  {
   "cell_type": "code",
   "execution_count": 40,
   "id": "47fe7132",
   "metadata": {},
   "outputs": [],
   "source": [
    "lst1 = [-200, -36, 76, 89, 988, -987]"
   ]
  },
  {
   "cell_type": "code",
   "execution_count": 41,
   "id": "f9e0a2df",
   "metadata": {},
   "outputs": [],
   "source": [
    "a = lst1.sort()\n",
    "a"
   ]
  },
  {
   "cell_type": "code",
   "execution_count": 42,
   "id": "8b745e54",
   "metadata": {},
   "outputs": [],
   "source": [
    "a"
   ]
  },
  {
   "cell_type": "code",
   "execution_count": 43,
   "id": "2852d807",
   "metadata": {},
   "outputs": [
    {
     "data": {
      "text/plain": [
       "[-987, -200, -36, 76, 89, 988]"
      ]
     },
     "execution_count": 43,
     "metadata": {},
     "output_type": "execute_result"
    }
   ],
   "source": [
    "lst1"
   ]
  },
  {
   "cell_type": "code",
   "execution_count": 33,
   "id": "143b5921",
   "metadata": {},
   "outputs": [
    {
     "data": {
      "text/plain": [
       "[-36, -20, 76, 89, 988]"
      ]
     },
     "execution_count": 33,
     "metadata": {},
     "output_type": "execute_result"
    }
   ],
   "source": [
    "lst_new = sorted(lst1)\n",
    "lst_new"
   ]
  },
  {
   "cell_type": "code",
   "execution_count": 45,
   "id": "bb9783c5",
   "metadata": {},
   "outputs": [],
   "source": [
    "lst_new = [10, 20, 30, 40 ,50, 60 ]"
   ]
  },
  {
   "cell_type": "code",
   "execution_count": 47,
   "id": "c1b6914b",
   "metadata": {},
   "outputs": [
    {
     "data": {
      "text/plain": [
       "[40, 50, 60]"
      ]
     },
     "execution_count": 47,
     "metadata": {},
     "output_type": "execute_result"
    }
   ],
   "source": [
    "lst_new[3:]"
   ]
  },
  {
   "cell_type": "code",
   "execution_count": 51,
   "id": "b6fa25cd",
   "metadata": {},
   "outputs": [
    {
     "data": {
      "text/plain": [
       "60"
      ]
     },
     "execution_count": 51,
     "metadata": {},
     "output_type": "execute_result"
    }
   ],
   "source": [
    "lst_new[-1]"
   ]
  },
  {
   "cell_type": "code",
   "execution_count": 52,
   "id": "900569c0",
   "metadata": {},
   "outputs": [
    {
     "data": {
      "text/plain": [
       "50"
      ]
     },
     "execution_count": 52,
     "metadata": {},
     "output_type": "execute_result"
    }
   ],
   "source": [
    "lst_new[-2]"
   ]
  },
  {
   "cell_type": "code",
   "execution_count": 53,
   "id": "a4da818c",
   "metadata": {},
   "outputs": [
    {
     "data": {
      "text/plain": [
       "[10, 20, 30, 40, 50, 60]"
      ]
     },
     "execution_count": 53,
     "metadata": {},
     "output_type": "execute_result"
    }
   ],
   "source": [
    "lst_new"
   ]
  },
  {
   "cell_type": "code",
   "execution_count": 57,
   "id": "4625677b",
   "metadata": {},
   "outputs": [
    {
     "data": {
      "text/plain": [
       "[40, 50, 60]"
      ]
     },
     "execution_count": 57,
     "metadata": {},
     "output_type": "execute_result"
    }
   ],
   "source": [
    "lst_new[-3:]"
   ]
  },
  {
   "cell_type": "code",
   "execution_count": 58,
   "id": "cd87960e",
   "metadata": {},
   "outputs": [
    {
     "data": {
      "text/plain": [
       "[10, 20, 30, 40, 50, 60]"
      ]
     },
     "execution_count": 58,
     "metadata": {},
     "output_type": "execute_result"
    }
   ],
   "source": [
    "lst_new"
   ]
  },
  {
   "cell_type": "code",
   "execution_count": 60,
   "id": "b1206811",
   "metadata": {},
   "outputs": [
    {
     "data": {
      "text/plain": [
       "[10, 40]"
      ]
     },
     "execution_count": 60,
     "metadata": {},
     "output_type": "execute_result"
    }
   ],
   "source": [
    "lst_new[0::3]"
   ]
  },
  {
   "cell_type": "code",
   "execution_count": 61,
   "id": "6faf1971",
   "metadata": {},
   "outputs": [
    {
     "data": {
      "text/plain": [
       "[60, 50, 40, 30, 20, 10]"
      ]
     },
     "execution_count": 61,
     "metadata": {},
     "output_type": "execute_result"
    }
   ],
   "source": [
    "lst_reverse = lst_new[::-1]\n",
    "lst_reverse"
   ]
  },
  {
   "cell_type": "code",
   "execution_count": 62,
   "id": "9e1dbf15",
   "metadata": {},
   "outputs": [
    {
     "data": {
      "text/plain": [
       "[0, 0, 0, 0, 0, 0, 0, 0, 0, 0]"
      ]
     },
     "execution_count": 62,
     "metadata": {},
     "output_type": "execute_result"
    }
   ],
   "source": [
    "lst = [0]\n",
    "mul_lst = lst*10 \n",
    "mul_lst"
   ]
  },
  {
   "cell_type": "code",
   "execution_count": 63,
   "id": "2ae28ec5",
   "metadata": {},
   "outputs": [
    {
     "data": {
      "text/plain": [
       "[1, 2, 3, 1, 2, 3, 1, 2, 3]"
      ]
     },
     "execution_count": 63,
     "metadata": {},
     "output_type": "execute_result"
    }
   ],
   "source": [
    "lst = [1,2,3] *3\n",
    "lst"
   ]
  },
  {
   "cell_type": "code",
   "execution_count": 64,
   "id": "140d4bed",
   "metadata": {},
   "outputs": [
    {
     "data": {
      "text/plain": [
       "[1, 2]"
      ]
     },
     "execution_count": 64,
     "metadata": {},
     "output_type": "execute_result"
    }
   ],
   "source": [
    "lst1 = [1]\n",
    "lst2 = [2]\n",
    "lst3 = lst1 + lst2\n",
    "lst3"
   ]
  },
  {
   "cell_type": "code",
   "execution_count": 65,
   "id": "6918f076",
   "metadata": {},
   "outputs": [
    {
     "data": {
      "text/plain": [
       "['a', ' b', 'c', 'd']"
      ]
     },
     "execution_count": 65,
     "metadata": {},
     "output_type": "execute_result"
    }
   ],
   "source": [
    "lst1 = [\"a\", \" b\", \"c\"]\n",
    "lst1_copy = lst1\n",
    "lst1_copy.append(\"d\")\n",
    "lst1"
   ]
  },
  {
   "cell_type": "code",
   "execution_count": 66,
   "id": "feebe6c8",
   "metadata": {},
   "outputs": [
    {
     "data": {
      "text/plain": [
       "['a', ' b', 'c', 'd']"
      ]
     },
     "execution_count": 66,
     "metadata": {},
     "output_type": "execute_result"
    }
   ],
   "source": [
    "lst2_copy = lst1.copy()\n",
    "lst2_copy.append(\"e\")\n",
    "lst1"
   ]
  },
  {
   "cell_type": "code",
   "execution_count": null,
   "id": "1f1cef43",
   "metadata": {},
   "outputs": [],
   "source": [
    "lst3_copy = lst1[:]\n"
   ]
  },
  {
   "cell_type": "markdown",
   "id": "96087f62",
   "metadata": {},
   "source": [
    "Mutable"
   ]
  },
  {
   "cell_type": "code",
   "execution_count": 67,
   "id": "7b548454",
   "metadata": {},
   "outputs": [
    {
     "data": {
      "text/plain": [
       "['a', ' b', 'c', 'd']"
      ]
     },
     "execution_count": 67,
     "metadata": {},
     "output_type": "execute_result"
    }
   ],
   "source": [
    "lst1"
   ]
  },
  {
   "cell_type": "code",
   "execution_count": 68,
   "id": "82b3f436",
   "metadata": {},
   "outputs": [],
   "source": [
    "lst1[0] = 5"
   ]
  },
  {
   "cell_type": "code",
   "execution_count": 69,
   "id": "d939b928",
   "metadata": {},
   "outputs": [
    {
     "data": {
      "text/plain": [
       "[5, ' b', 'c', 'd']"
      ]
     },
     "execution_count": 69,
     "metadata": {},
     "output_type": "execute_result"
    }
   ],
   "source": [
    "lst1"
   ]
  },
  {
   "cell_type": "markdown",
   "id": "e92ef661",
   "metadata": {},
   "source": [
    "# Tuple"
   ]
  },
  {
   "cell_type": "code",
   "execution_count": 70,
   "id": "02916d7d",
   "metadata": {},
   "outputs": [],
   "source": [
    "#ordered, immutable , and allows duplicate elements"
   ]
  },
  {
   "cell_type": "code",
   "execution_count": 71,
   "id": "5fa31735",
   "metadata": {},
   "outputs": [],
   "source": [
    "tup = (\"pranav\", \"22\", \"lbnagar\")"
   ]
  },
  {
   "cell_type": "code",
   "execution_count": 72,
   "id": "d5156b01",
   "metadata": {},
   "outputs": [
    {
     "data": {
      "text/plain": [
       "'pranav'"
      ]
     },
     "execution_count": 72,
     "metadata": {},
     "output_type": "execute_result"
    }
   ],
   "source": [
    "tup[0]"
   ]
  },
  {
   "cell_type": "code",
   "execution_count": 73,
   "id": "a1729c9d",
   "metadata": {},
   "outputs": [
    {
     "ename": "TypeError",
     "evalue": "'tuple' object does not support item assignment",
     "output_type": "error",
     "traceback": [
      "\u001b[0;31m---------------------------------------------------------------------------\u001b[0m",
      "\u001b[0;31mTypeError\u001b[0m                                 Traceback (most recent call last)",
      "Cell \u001b[0;32mIn[73], line 1\u001b[0m\n\u001b[0;32m----> 1\u001b[0m \u001b[43mtup\u001b[49m\u001b[43m[\u001b[49m\u001b[38;5;241;43m0\u001b[39;49m\u001b[43m]\u001b[49m \u001b[38;5;241m=\u001b[39m \u001b[38;5;124m\"\u001b[39m\u001b[38;5;124msairam\u001b[39m\u001b[38;5;124m\"\u001b[39m\n",
      "\u001b[0;31mTypeError\u001b[0m: 'tuple' object does not support item assignment"
     ]
    }
   ],
   "source": [
    "tup[0] = \"sairam\""
   ]
  },
  {
   "cell_type": "code",
   "execution_count": 74,
   "id": "06e11243",
   "metadata": {},
   "outputs": [
    {
     "data": {
      "text/plain": [
       "'lbnagar'"
      ]
     },
     "execution_count": 74,
     "metadata": {},
     "output_type": "execute_result"
    }
   ],
   "source": [
    "tup[-1]"
   ]
  },
  {
   "cell_type": "code",
   "execution_count": 75,
   "id": "77d402fe",
   "metadata": {},
   "outputs": [
    {
     "name": "stdout",
     "output_type": "stream",
     "text": [
      "pranav\n",
      "22\n",
      "lbnagar\n"
     ]
    }
   ],
   "source": [
    "for i in tup:\n",
    "    print(i)"
   ]
  },
  {
   "cell_type": "code",
   "execution_count": 76,
   "id": "63ea87cd",
   "metadata": {},
   "outputs": [
    {
     "data": {
      "text/plain": [
       "True"
      ]
     },
     "execution_count": 76,
     "metadata": {},
     "output_type": "execute_result"
    }
   ],
   "source": [
    "\"pranav\" in  tup"
   ]
  },
  {
   "cell_type": "code",
   "execution_count": 77,
   "id": "114de31e",
   "metadata": {},
   "outputs": [
    {
     "data": {
      "text/plain": [
       "3"
      ]
     },
     "execution_count": 77,
     "metadata": {},
     "output_type": "execute_result"
    }
   ],
   "source": [
    "len(tup)"
   ]
  },
  {
   "cell_type": "code",
   "execution_count": 79,
   "id": "24ea909c",
   "metadata": {},
   "outputs": [],
   "source": [
    "tup = (\"b\", \"a\", \"n\", \"a\", \"n\", \"a\")"
   ]
  },
  {
   "cell_type": "code",
   "execution_count": 80,
   "id": "baf139d0",
   "metadata": {},
   "outputs": [
    {
     "data": {
      "text/plain": [
       "3"
      ]
     },
     "execution_count": 80,
     "metadata": {},
     "output_type": "execute_result"
    }
   ],
   "source": [
    "tup.count(\"a\")"
   ]
  },
  {
   "cell_type": "code",
   "execution_count": 81,
   "id": "aa0a8f4f",
   "metadata": {},
   "outputs": [
    {
     "data": {
      "text/plain": [
       "2"
      ]
     },
     "execution_count": 81,
     "metadata": {},
     "output_type": "execute_result"
    }
   ],
   "source": [
    "tup.index(\"n\")"
   ]
  },
  {
   "cell_type": "code",
   "execution_count": 83,
   "id": "97617f13",
   "metadata": {},
   "outputs": [
    {
     "data": {
      "text/plain": [
       "['b', 'a', 'n', 'a', 'n', 'a']"
      ]
     },
     "execution_count": 83,
     "metadata": {},
     "output_type": "execute_result"
    }
   ],
   "source": [
    "lst = list(tup)\n",
    "lst"
   ]
  },
  {
   "cell_type": "code",
   "execution_count": 84,
   "id": "c000616d",
   "metadata": {},
   "outputs": [
    {
     "data": {
      "text/plain": [
       "('b', 'a', 'n', 'a', 'n', 'a')"
      ]
     },
     "execution_count": 84,
     "metadata": {},
     "output_type": "execute_result"
    }
   ],
   "source": [
    "tuple(lst)"
   ]
  },
  {
   "cell_type": "code",
   "execution_count": 85,
   "id": "dcddb0a7",
   "metadata": {},
   "outputs": [],
   "source": [
    "tup = (\"pranav\", \"22\", \"lbnagar\")"
   ]
  },
  {
   "cell_type": "code",
   "execution_count": 86,
   "id": "43a11575",
   "metadata": {},
   "outputs": [],
   "source": [
    "a,b,c = tup"
   ]
  },
  {
   "cell_type": "code",
   "execution_count": 87,
   "id": "f13bdfa1",
   "metadata": {},
   "outputs": [
    {
     "data": {
      "text/plain": [
       "'pranav'"
      ]
     },
     "execution_count": 87,
     "metadata": {},
     "output_type": "execute_result"
    }
   ],
   "source": [
    "a"
   ]
  },
  {
   "cell_type": "code",
   "execution_count": 95,
   "id": "eed1eecd",
   "metadata": {},
   "outputs": [
    {
     "name": "stdout",
     "output_type": "stream",
     "text": [
      "(1, 4)\n",
      "(2, 5)\n",
      "(3, 6)\n"
     ]
    }
   ],
   "source": [
    "lst1 = [1, 2, 3]\n",
    "lst2 = [4, 5, 6]\n",
    "\n",
    "for k in zip(lst1,lst2):\n",
    "    print(k)\n",
    "    #print(i+j)\n",
    "\n",
    "\n"
   ]
  },
  {
   "cell_type": "code",
   "execution_count": 94,
   "id": "f85c6c8d",
   "metadata": {},
   "outputs": [
    {
     "data": {
      "text/plain": [
       "[(1, 4), (2, 5), (3, 6)]"
      ]
     },
     "execution_count": 94,
     "metadata": {},
     "output_type": "execute_result"
    }
   ],
   "source": [
    "list(zip(lst1, lst2))"
   ]
  },
  {
   "cell_type": "code",
   "execution_count": null,
   "id": "82fdd550",
   "metadata": {},
   "outputs": [],
   "source": [
    "for k in zip(lst1,lst2):\n",
    "    print(k)"
   ]
  },
  {
   "cell_type": "code",
   "execution_count": 99,
   "id": "a3de8814",
   "metadata": {},
   "outputs": [
    {
     "data": {
      "text/plain": [
       "[(0, 4), (1, 5), (2, 6)]"
      ]
     },
     "execution_count": 99,
     "metadata": {},
     "output_type": "execute_result"
    }
   ],
   "source": [
    "list(enumerate(lst2))"
   ]
  },
  {
   "cell_type": "code",
   "execution_count": 100,
   "id": "35799b35",
   "metadata": {},
   "outputs": [],
   "source": [
    "a,b = (0,4)"
   ]
  },
  {
   "cell_type": "code",
   "execution_count": 103,
   "id": "84b21a94",
   "metadata": {},
   "outputs": [
    {
     "name": "stdout",
     "output_type": "stream",
     "text": [
      "0\n",
      "1\n",
      "2\n"
     ]
    }
   ],
   "source": [
    "for index,value in enumerate(lst2):\n",
    "    print(index)"
   ]
  },
  {
   "cell_type": "code",
   "execution_count": 104,
   "id": "f3b61362",
   "metadata": {},
   "outputs": [
    {
     "data": {
      "text/plain": [
       "[0, 1, 2, 3, 4, 5, 6, 7, 8, 9]"
      ]
     },
     "execution_count": 104,
     "metadata": {},
     "output_type": "execute_result"
    }
   ],
   "source": [
    "list(range(0,10))"
   ]
  },
  {
   "cell_type": "code",
   "execution_count": 115,
   "id": "ade914f5",
   "metadata": {},
   "outputs": [],
   "source": [
    "tup = (\"pranav\", 22, \"lbnagar\", True)"
   ]
  },
  {
   "cell_type": "code",
   "execution_count": 116,
   "id": "7b1befff",
   "metadata": {},
   "outputs": [
    {
     "data": {
      "text/plain": [
       "tuple"
      ]
     },
     "execution_count": 116,
     "metadata": {},
     "output_type": "execute_result"
    }
   ],
   "source": [
    "type(tup)"
   ]
  },
  {
   "cell_type": "code",
   "execution_count": 118,
   "id": "d8ea74d3",
   "metadata": {},
   "outputs": [],
   "source": [
    "a, b , c, d = tup"
   ]
  },
  {
   "cell_type": "code",
   "execution_count": 119,
   "id": "e1f03ca1",
   "metadata": {},
   "outputs": [
    {
     "data": {
      "text/plain": [
       "bool"
      ]
     },
     "execution_count": 119,
     "metadata": {},
     "output_type": "execute_result"
    }
   ],
   "source": [
    "type(d)"
   ]
  },
  {
   "cell_type": "code",
   "execution_count": 114,
   "id": "e9b54cf3",
   "metadata": {},
   "outputs": [
    {
     "data": {
      "text/plain": [
       "int"
      ]
     },
     "execution_count": 114,
     "metadata": {},
     "output_type": "execute_result"
    }
   ],
   "source": [
    "type(b)"
   ]
  },
  {
   "cell_type": "code",
   "execution_count": 120,
   "id": "4d8c07b1",
   "metadata": {},
   "outputs": [],
   "source": [
    "num_tup = tuple(range(0,10))"
   ]
  },
  {
   "cell_type": "code",
   "execution_count": 121,
   "id": "50b96dd5",
   "metadata": {},
   "outputs": [
    {
     "data": {
      "text/plain": [
       "(0, 1, 2, 3, 4, 5, 6, 7, 8, 9)"
      ]
     },
     "execution_count": 121,
     "metadata": {},
     "output_type": "execute_result"
    }
   ],
   "source": [
    "num_tup"
   ]
  },
  {
   "cell_type": "code",
   "execution_count": 126,
   "id": "57f17e3f",
   "metadata": {},
   "outputs": [
    {
     "ename": "ValueError",
     "evalue": "too many values to unpack (expected 3)",
     "output_type": "error",
     "traceback": [
      "\u001b[0;31m---------------------------------------------------------------------------\u001b[0m",
      "\u001b[0;31mValueError\u001b[0m                                Traceback (most recent call last)",
      "Cell \u001b[0;32mIn[126], line 1\u001b[0m\n\u001b[0;32m----> 1\u001b[0m i1, i2, i3 \u001b[38;5;241m=\u001b[39m num_tup\n",
      "\u001b[0;31mValueError\u001b[0m: too many values to unpack (expected 3)"
     ]
    }
   ],
   "source": [
    "i1, i2, i3 = num_tup"
   ]
  },
  {
   "cell_type": "code",
   "execution_count": 123,
   "id": "7015869b",
   "metadata": {},
   "outputs": [
    {
     "data": {
      "text/plain": [
       "0"
      ]
     },
     "execution_count": 123,
     "metadata": {},
     "output_type": "execute_result"
    }
   ],
   "source": [
    "i1"
   ]
  },
  {
   "cell_type": "code",
   "execution_count": 124,
   "id": "bfe1d944",
   "metadata": {},
   "outputs": [
    {
     "data": {
      "text/plain": [
       "9"
      ]
     },
     "execution_count": 124,
     "metadata": {},
     "output_type": "execute_result"
    }
   ],
   "source": [
    "i3"
   ]
  },
  {
   "cell_type": "code",
   "execution_count": 125,
   "id": "2316893f",
   "metadata": {},
   "outputs": [
    {
     "data": {
      "text/plain": [
       "[1, 2, 3, 4, 5, 6, 7, 8]"
      ]
     },
     "execution_count": 125,
     "metadata": {},
     "output_type": "execute_result"
    }
   ],
   "source": [
    "i2"
   ]
  },
  {
   "cell_type": "markdown",
   "id": "95793cbb",
   "metadata": {},
   "source": [
    "# Dictionary"
   ]
  },
  {
   "cell_type": "code",
   "execution_count": 127,
   "id": "c13d0593",
   "metadata": {},
   "outputs": [],
   "source": [
    "#key-value pair , unordered, mutable"
   ]
  },
  {
   "cell_type": "code",
   "execution_count": 130,
   "id": "ff77a2e7",
   "metadata": {},
   "outputs": [],
   "source": [
    "dict_1 = {\"name\": \"pranav\", \"age\":22, \"location\":\"lbnagar\", \"is_good\": True}"
   ]
  },
  {
   "cell_type": "code",
   "execution_count": 129,
   "id": "cf5a7938",
   "metadata": {},
   "outputs": [
    {
     "data": {
      "text/plain": [
       "'pranav'"
      ]
     },
     "execution_count": 129,
     "metadata": {},
     "output_type": "execute_result"
    }
   ],
   "source": [
    "dict_1[\"name\"]"
   ]
  },
  {
   "cell_type": "code",
   "execution_count": 131,
   "id": "2ea0db87",
   "metadata": {},
   "outputs": [
    {
     "data": {
      "text/plain": [
       "True"
      ]
     },
     "execution_count": 131,
     "metadata": {},
     "output_type": "execute_result"
    }
   ],
   "source": [
    "dict_1[\"is_good\"]"
   ]
  },
  {
   "cell_type": "code",
   "execution_count": 132,
   "id": "e17d0492",
   "metadata": {},
   "outputs": [
    {
     "name": "stdout",
     "output_type": "stream",
     "text": [
      "{'name': 'pranav', 'age': 22, 'location': 'lbnagar', 'is_good': True}\n"
     ]
    }
   ],
   "source": [
    "print(dict_1)"
   ]
  },
  {
   "cell_type": "code",
   "execution_count": 133,
   "id": "964e12af",
   "metadata": {},
   "outputs": [],
   "source": [
    "dict_1[\"age\"] = 38"
   ]
  },
  {
   "cell_type": "code",
   "execution_count": 134,
   "id": "5a729005",
   "metadata": {},
   "outputs": [
    {
     "data": {
      "text/plain": [
       "{'name': 'pranav', 'age': 38, 'location': 'lbnagar', 'is_good': True}"
      ]
     },
     "execution_count": 134,
     "metadata": {},
     "output_type": "execute_result"
    }
   ],
   "source": [
    "dict_1"
   ]
  },
  {
   "cell_type": "code",
   "execution_count": 135,
   "id": "b5a361d5",
   "metadata": {},
   "outputs": [],
   "source": [
    "del dict_1[\"name\"]"
   ]
  },
  {
   "cell_type": "code",
   "execution_count": 136,
   "id": "9248968c",
   "metadata": {},
   "outputs": [
    {
     "data": {
      "text/plain": [
       "{'age': 38, 'location': 'lbnagar', 'is_good': True}"
      ]
     },
     "execution_count": 136,
     "metadata": {},
     "output_type": "execute_result"
    }
   ],
   "source": [
    "dict_1"
   ]
  },
  {
   "cell_type": "code",
   "execution_count": 137,
   "id": "3c18e127",
   "metadata": {},
   "outputs": [
    {
     "data": {
      "text/plain": [
       "38"
      ]
     },
     "execution_count": 137,
     "metadata": {},
     "output_type": "execute_result"
    }
   ],
   "source": [
    "dict_1.pop(\"age\")"
   ]
  },
  {
   "cell_type": "code",
   "execution_count": 138,
   "id": "5303a75a",
   "metadata": {},
   "outputs": [
    {
     "data": {
      "text/plain": [
       "{'location': 'lbnagar', 'is_good': True}"
      ]
     },
     "execution_count": 138,
     "metadata": {},
     "output_type": "execute_result"
    }
   ],
   "source": [
    "dict_1"
   ]
  },
  {
   "cell_type": "code",
   "execution_count": 149,
   "id": "d04af496",
   "metadata": {},
   "outputs": [],
   "source": [
    "dict_1 = {\"name\": \"pranav\", \"age\":22, \"location\":\"lbnagar\", \"is_good\": True}"
   ]
  },
  {
   "cell_type": "code",
   "execution_count": 143,
   "id": "6cb7d531",
   "metadata": {},
   "outputs": [
    {
     "data": {
      "text/plain": [
       "dict_keys(['name', 'age', 'location', 'is_good'])"
      ]
     },
     "execution_count": 143,
     "metadata": {},
     "output_type": "execute_result"
    }
   ],
   "source": [
    "dict_1.keys()"
   ]
  },
  {
   "cell_type": "code",
   "execution_count": 144,
   "id": "26a14a27",
   "metadata": {},
   "outputs": [
    {
     "data": {
      "text/plain": [
       "True"
      ]
     },
     "execution_count": 144,
     "metadata": {},
     "output_type": "execute_result"
    }
   ],
   "source": [
    "\"name\" in  dict_1.keys()"
   ]
  },
  {
   "cell_type": "code",
   "execution_count": 145,
   "id": "1c793990",
   "metadata": {},
   "outputs": [
    {
     "data": {
      "text/plain": [
       "dict_values(['pranav', 22, 'lbnagar', True])"
      ]
     },
     "execution_count": 145,
     "metadata": {},
     "output_type": "execute_result"
    }
   ],
   "source": [
    "dict_1.values()"
   ]
  },
  {
   "cell_type": "code",
   "execution_count": 146,
   "id": "3303a8db",
   "metadata": {},
   "outputs": [
    {
     "data": {
      "text/plain": [
       "dict_items([('name', 'pranav'), ('age', 22), ('location', 'lbnagar'), ('is_good', True)])"
      ]
     },
     "execution_count": 146,
     "metadata": {},
     "output_type": "execute_result"
    }
   ],
   "source": [
    "dict_1.items()"
   ]
  },
  {
   "cell_type": "code",
   "execution_count": 150,
   "id": "c778010f",
   "metadata": {},
   "outputs": [
    {
     "name": "stdout",
     "output_type": "stream",
     "text": [
      "Before...\n",
      "{'name': 'pranav', 'age': 22, 'location': 'lbnagar', 'is_good': True}\n",
      "After...\n",
      "{'age': 22, 'location': 'lbnagar', 'is_good': True}\n"
     ]
    }
   ],
   "source": [
    "print(\"Before...\")\n",
    "print(dict_1)\n",
    "for key, value in  dict_1.items():\n",
    "    if value == \"pranav\":\n",
    "        del dict_1[\"name\"]\n",
    "        break\n",
    "    \n",
    "print(\"After...\")\n",
    "print(dict_1)"
   ]
  },
  {
   "cell_type": "code",
   "execution_count": 154,
   "id": "5e5a27f5",
   "metadata": {},
   "outputs": [],
   "source": [
    "dict_1 = {\"name\": \"pranav\", \"age\":22, \"location\":\"lbnagar\", \"is_good\": True}\n",
    "dict_2 = {\"name\": \"sairam\", \"age1\":3455, \"location\":\"sec\", \"is_good\": False}"
   ]
  },
  {
   "cell_type": "code",
   "execution_count": 155,
   "id": "ecd9a6c4",
   "metadata": {},
   "outputs": [],
   "source": [
    "dict_1.update(dict_2)"
   ]
  },
  {
   "cell_type": "code",
   "execution_count": 156,
   "id": "551ced2b",
   "metadata": {},
   "outputs": [
    {
     "data": {
      "text/plain": [
       "{'name': 'sairam',\n",
       " 'age': 22,\n",
       " 'location': 'sec',\n",
       " 'is_good': False,\n",
       " 'age1': 3455}"
      ]
     },
     "execution_count": 156,
     "metadata": {},
     "output_type": "execute_result"
    }
   ],
   "source": [
    "dict_1"
   ]
  },
  {
   "cell_type": "code",
   "execution_count": 157,
   "id": "45fe0480",
   "metadata": {},
   "outputs": [],
   "source": [
    "dict_1 = {\"name\": \"pranav\", \"age\":22, \"location\":\"lbnagar\", \"is_good\": True}"
   ]
  },
  {
   "cell_type": "code",
   "execution_count": 159,
   "id": "e46766f2",
   "metadata": {},
   "outputs": [
    {
     "ename": "KeyError",
     "evalue": "'age2'",
     "output_type": "error",
     "traceback": [
      "\u001b[0;31m---------------------------------------------------------------------------\u001b[0m",
      "\u001b[0;31mKeyError\u001b[0m                                  Traceback (most recent call last)",
      "Cell \u001b[0;32mIn[159], line 1\u001b[0m\n\u001b[0;32m----> 1\u001b[0m \u001b[43mdict_1\u001b[49m\u001b[43m[\u001b[49m\u001b[38;5;124;43m\"\u001b[39;49m\u001b[38;5;124;43mage2\u001b[39;49m\u001b[38;5;124;43m\"\u001b[39;49m\u001b[43m]\u001b[49m\n",
      "\u001b[0;31mKeyError\u001b[0m: 'age2'"
     ]
    }
   ],
   "source": [
    "dict_1[\"age2\"]"
   ]
  },
  {
   "cell_type": "code",
   "execution_count": 162,
   "id": "a3788612",
   "metadata": {},
   "outputs": [
    {
     "name": "stdout",
     "output_type": "stream",
     "text": [
      "no such key\n"
     ]
    }
   ],
   "source": [
    "try:\n",
    "    print( dict_1[\"age2\"])\n",
    "except:\n",
    "    print(\"no such key\")\n",
    "    "
   ]
  },
  {
   "cell_type": "code",
   "execution_count": null,
   "id": "daefe1fe",
   "metadata": {},
   "outputs": [],
   "source": []
  }
 ],
 "metadata": {
  "kernelspec": {
   "display_name": "algo_trading",
   "language": "python",
   "name": "algo_trading"
  },
  "language_info": {
   "codemirror_mode": {
    "name": "ipython",
    "version": 3
   },
   "file_extension": ".py",
   "mimetype": "text/x-python",
   "name": "python",
   "nbconvert_exporter": "python",
   "pygments_lexer": "ipython3",
   "version": "3.10.10"
  }
 },
 "nbformat": 4,
 "nbformat_minor": 5
}
